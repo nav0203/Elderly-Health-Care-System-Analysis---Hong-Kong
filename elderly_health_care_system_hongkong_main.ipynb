{
  "cells": [
    {
      "cell_type": "markdown",
      "metadata": {
        "id": "view-in-github",
        "colab_type": "text"
      },
      "source": [
        "<a href=\"https://colab.research.google.com/github/nav0203/Elderly-Health-Care-System-Analysis---Hong-Kong/blob/main/elderly_health_care_system_hongkong_main.ipynb\" target=\"_parent\"><img src=\"https://colab.research.google.com/assets/colab-badge.svg\" alt=\"Open In Colab\"/></a>"
      ]
    },
    {
      "cell_type": "markdown",
      "metadata": {
        "id": "uwUhh0dMaTUq"
      },
      "source": [
        "# Elderly-health-care-system-Hong Kong\n",
        "\n",
        "Use the \"Run\" button to execute the code."
      ]
    },
    {
      "cell_type": "markdown",
      "metadata": {
        "id": "OS2YDkGjad9_"
      },
      "source": [
        "**Introduction**"
      ]
    },
    {
      "cell_type": "markdown",
      "metadata": {
        "id": "-Z2qFkPZajTp"
      },
      "source": [
        "The data set used in this study was obtained from a mobile health care service offered in collaboration with non-governmental organizations that run elderly care centers. This service was provided to elderly people residing in various districts of Hong Kong for free from 2008 to 2018.\n",
        "The data consists of individual data of these people such as age, Body Mass Index (BMI), weight, height etc.\n",
        "The data also categorizes the individuals by using some categorical variables like mobility, Mini Nutritional Assessment (MNA) score, education level, risk of dementia, hyperlipidemia etc. These variables help us understand what proportion of individuals are falling into which categories.\n",
        "This data gives us a fair picture of health conditions of these individuals and helps us to find meaningful insights as to how all individuals are categorized and whether we can create some relationships between the given variables. With the help of the given data and the variables we will do a detailed analysis of the condition of the elderly."
      ]
    },
    {
      "cell_type": "markdown",
      "metadata": {
        "id": "Y8PpPK_3a65x"
      },
      "source": [
        "**Problem Statement**\n",
        "\n"
      ]
    },
    {
      "cell_type": "markdown",
      "metadata": {
        "id": "tEvuMPZea-cS"
      },
      "source": [
        "To identify what are the indicators of diseases amongst elderly and analyzing the results, additionally, what is the proportion of people having medical complications to those who are at less risk and lastly, to check what steps could be taken to assist these individuals.\n",
        "\n"
      ]
    },
    {
      "cell_type": "markdown",
      "metadata": {
        "id": "A_jAZ1_UbVKe"
      },
      "source": [
        "**Goal of the Project**"
      ]
    },
    {
      "cell_type": "markdown",
      "metadata": {
        "id": "WmOrNrXMbbFn"
      },
      "source": [
        "The main aim of this report is firstly, Data Cleaning and preparing it for accurate estimation as cleaning the data will help us better analyze it, secondly, to perform Exploratory Data Analysis (EDA) i.e. to have an overview of the variables and their relationships and visualizing those relationships to have a better understanding  "
      ]
    },
    {
      "cell_type": "markdown",
      "metadata": {
        "id": "Xw3qnQu1cb-c"
      },
      "source": [
        "# **Data Cleaning**"
      ]
    },
    {
      "cell_type": "markdown",
      "metadata": {
        "id": "luKP7gfIciKi"
      },
      "source": [
        "## **Preprocessing**"
      ]
    },
    {
      "cell_type": "markdown",
      "metadata": {
        "id": "CnOi8BHfcptB"
      },
      "source": [
        "In order to make accurate and efficient analysis we need to first process the data to identify any missing values, categorizing the variables, presenting it in a more structured manner."
      ]
    },
    {
      "cell_type": "markdown",
      "metadata": {
        "id": "MK6O8yybc52k"
      },
      "source": [
        "**IMPORTING NECESSARY LIBRARIES**\n",
        "\n",
        "\n"
      ]
    },
    {
      "cell_type": "code",
      "execution_count": null,
      "metadata": {
        "id": "S4tS8VG8dWiJ"
      },
      "outputs": [],
      "source": [
        "import pandas as pd\n",
        "import matplotlib.pyplot as plt\n",
        "import seaborn as sns\n",
        "import warnings\n",
        "warnings.filterwarnings(\"ignore\")"
      ]
    },
    {
      "cell_type": "markdown",
      "metadata": {
        "id": "iw1-QTVcf42H"
      },
      "source": [
        "\n",
        "### **1.**  **Import The Dataset**\n",
        "\n",
        "Mounting Google Drive in Collab"
      ]
    },
    {
      "cell_type": "markdown",
      "metadata": {
        "id": "H5KWMJyWgHHp"
      },
      "source": [
        "Loading information from csv file"
      ]
    },
    {
      "cell_type": "code",
      "execution_count": null,
      "metadata": {
        "colab": {
          "base_uri": "https://localhost:8080/"
        },
        "id": "t1vZsVhugBWQ",
        "outputId": "48b7115b-c960-4387-d20b-6aa1eef29706"
      },
      "outputs": [
        {
          "output_type": "stream",
          "name": "stdout",
          "text": [
            "Mounted at /content/drive\n"
          ]
        }
      ],
      "source": [
        "from google.colab import drive\n",
        "drive.mount('/content/drive')"
      ]
    },
    {
      "cell_type": "markdown",
      "metadata": {
        "id": "Ky4y8BMObkzA"
      },
      "source": [
        "• Loading the data from the csv file to Python"
      ]
    },
    {
      "cell_type": "code",
      "execution_count": null,
      "metadata": {
        "id": "8HzSh7QNhf8e"
      },
      "outputs": [],
      "source": [
        "# Store the csv file path in a variable\n",
        "path = \"/content/drive/My Drive/hongkong_csv.csv\""
      ]
    },
    {
      "cell_type": "markdown",
      "metadata": {
        "id": "lFAy8UuShmfd"
      },
      "source": [
        "**View Data**"
      ]
    },
    {
      "cell_type": "code",
      "execution_count": null,
      "metadata": {
        "id": "JgYn5q2xhnoY"
      },
      "outputs": [],
      "source": [
        "# Use the above variable 'path' in the code below to get the data from the csv file\n",
        "df=pd.read_csv(path)"
      ]
    },
    {
      "cell_type": "code",
      "execution_count": null,
      "metadata": {
        "colab": {
          "base_uri": "https://localhost:8080/"
        },
        "id": "B9H3up7ahzcG",
        "outputId": "ca8996ea-b8b9-4b60-e0b9-a902846a1e11"
      },
      "outputs": [
        {
          "output_type": "stream",
          "name": "stdout",
          "text": [
            "      S.no  Age  Education_ID  Mobility  body_height  MNAa_q3  body_weight  \\\n",
            "0        1   86             1         4        148.3        2         61.1   \n",
            "1        2   92             2         4        156.2        2         61.5   \n",
            "2        3   81             1         4        146.3        2         47.0   \n",
            "3        4   79             2         4        152.2        2         65.3   \n",
            "4        5   86             1         4        157.3        2         57.3   \n",
            "...    ...  ...           ...       ...          ...      ...          ...   \n",
            "2294  2295   62             3         4        158.5        2         60.7   \n",
            "2295  2296   69             2         4        170.0        2         64.6   \n",
            "2296  2297   67             2         4        163.6        2         68.1   \n",
            "2297  2298   64             2         4        148.4        2         58.1   \n",
            "2298  2299   63             2         4        150.5        2         41.1   \n",
            "\n",
            "      MNAb_tot  waist    bmi  MNAa_tot  Endocrine.Disease_Hyperlipidaemia  \\\n",
            "0         10.5   95.0  27.76        12                                  1   \n",
            "1         15.0   88.0  25.19        14                                  0   \n",
            "2         13.0   73.5  21.96        13                                  0   \n",
            "3         14.0   95.0  28.17        14                                  0   \n",
            "4         11.5   88.0  23.16        13                                  1   \n",
            "...        ...    ...    ...       ...                                ...   \n",
            "2294      14.0   87.0  24.14        14                                  0   \n",
            "2295      13.0   89.0  22.35        13                                  0   \n",
            "2296      15.0   92.0  25.43        14                                  0   \n",
            "2297      11.0   87.0  26.38        13                                  0   \n",
            "2298      10.5   67.0  18.12        11                                  0   \n",
            "\n",
            "      MMSE_class_2  \n",
            "0                0  \n",
            "1                0  \n",
            "2                0  \n",
            "3                0  \n",
            "4                0  \n",
            "...            ...  \n",
            "2294             0  \n",
            "2295             0  \n",
            "2296             0  \n",
            "2297             0  \n",
            "2298             0  \n",
            "\n",
            "[2299 rows x 13 columns]\n"
          ]
        }
      ],
      "source": [
        "print(df)"
      ]
    },
    {
      "cell_type": "markdown",
      "metadata": {
        "id": "wMZUnx4wh8m0"
      },
      "source": [
        "•\tTo view the data in a tabular format:\n"
      ]
    },
    {
      "cell_type": "code",
      "execution_count": null,
      "metadata": {
        "colab": {
          "base_uri": "https://localhost:8080/",
          "height": 443
        },
        "id": "3Ox53rgih-Nr",
        "outputId": "0fd1a8ab-6a4e-4e1e-e002-a70a810fe217"
      },
      "outputs": [
        {
          "output_type": "display_data",
          "data": {
            "text/plain": [
              "      S.no  Age  Education_ID  Mobility  body_height  MNAa_q3  body_weight  \\\n",
              "0        1   86             1         4        148.3        2         61.1   \n",
              "1        2   92             2         4        156.2        2         61.5   \n",
              "2        3   81             1         4        146.3        2         47.0   \n",
              "3        4   79             2         4        152.2        2         65.3   \n",
              "4        5   86             1         4        157.3        2         57.3   \n",
              "...    ...  ...           ...       ...          ...      ...          ...   \n",
              "2294  2295   62             3         4        158.5        2         60.7   \n",
              "2295  2296   69             2         4        170.0        2         64.6   \n",
              "2296  2297   67             2         4        163.6        2         68.1   \n",
              "2297  2298   64             2         4        148.4        2         58.1   \n",
              "2298  2299   63             2         4        150.5        2         41.1   \n",
              "\n",
              "      MNAb_tot  waist    bmi  MNAa_tot  Endocrine.Disease_Hyperlipidaemia  \\\n",
              "0         10.5   95.0  27.76        12                                  1   \n",
              "1         15.0   88.0  25.19        14                                  0   \n",
              "2         13.0   73.5  21.96        13                                  0   \n",
              "3         14.0   95.0  28.17        14                                  0   \n",
              "4         11.5   88.0  23.16        13                                  1   \n",
              "...        ...    ...    ...       ...                                ...   \n",
              "2294      14.0   87.0  24.14        14                                  0   \n",
              "2295      13.0   89.0  22.35        13                                  0   \n",
              "2296      15.0   92.0  25.43        14                                  0   \n",
              "2297      11.0   87.0  26.38        13                                  0   \n",
              "2298      10.5   67.0  18.12        11                                  0   \n",
              "\n",
              "      MMSE_class_2  \n",
              "0                0  \n",
              "1                0  \n",
              "2                0  \n",
              "3                0  \n",
              "4                0  \n",
              "...            ...  \n",
              "2294             0  \n",
              "2295             0  \n",
              "2296             0  \n",
              "2297             0  \n",
              "2298             0  \n",
              "\n",
              "[2299 rows x 13 columns]"
            ],
            "text/html": [
              "\n",
              "  <div id=\"df-24e7f2dc-3c99-40bd-8345-76bdb21612ca\" class=\"colab-df-container\">\n",
              "    <div>\n",
              "<style scoped>\n",
              "    .dataframe tbody tr th:only-of-type {\n",
              "        vertical-align: middle;\n",
              "    }\n",
              "\n",
              "    .dataframe tbody tr th {\n",
              "        vertical-align: top;\n",
              "    }\n",
              "\n",
              "    .dataframe thead th {\n",
              "        text-align: right;\n",
              "    }\n",
              "</style>\n",
              "<table border=\"1\" class=\"dataframe\">\n",
              "  <thead>\n",
              "    <tr style=\"text-align: right;\">\n",
              "      <th></th>\n",
              "      <th>S.no</th>\n",
              "      <th>Age</th>\n",
              "      <th>Education_ID</th>\n",
              "      <th>Mobility</th>\n",
              "      <th>body_height</th>\n",
              "      <th>MNAa_q3</th>\n",
              "      <th>body_weight</th>\n",
              "      <th>MNAb_tot</th>\n",
              "      <th>waist</th>\n",
              "      <th>bmi</th>\n",
              "      <th>MNAa_tot</th>\n",
              "      <th>Endocrine.Disease_Hyperlipidaemia</th>\n",
              "      <th>MMSE_class_2</th>\n",
              "    </tr>\n",
              "  </thead>\n",
              "  <tbody>\n",
              "    <tr>\n",
              "      <th>0</th>\n",
              "      <td>1</td>\n",
              "      <td>86</td>\n",
              "      <td>1</td>\n",
              "      <td>4</td>\n",
              "      <td>148.3</td>\n",
              "      <td>2</td>\n",
              "      <td>61.1</td>\n",
              "      <td>10.5</td>\n",
              "      <td>95.0</td>\n",
              "      <td>27.76</td>\n",
              "      <td>12</td>\n",
              "      <td>1</td>\n",
              "      <td>0</td>\n",
              "    </tr>\n",
              "    <tr>\n",
              "      <th>1</th>\n",
              "      <td>2</td>\n",
              "      <td>92</td>\n",
              "      <td>2</td>\n",
              "      <td>4</td>\n",
              "      <td>156.2</td>\n",
              "      <td>2</td>\n",
              "      <td>61.5</td>\n",
              "      <td>15.0</td>\n",
              "      <td>88.0</td>\n",
              "      <td>25.19</td>\n",
              "      <td>14</td>\n",
              "      <td>0</td>\n",
              "      <td>0</td>\n",
              "    </tr>\n",
              "    <tr>\n",
              "      <th>2</th>\n",
              "      <td>3</td>\n",
              "      <td>81</td>\n",
              "      <td>1</td>\n",
              "      <td>4</td>\n",
              "      <td>146.3</td>\n",
              "      <td>2</td>\n",
              "      <td>47.0</td>\n",
              "      <td>13.0</td>\n",
              "      <td>73.5</td>\n",
              "      <td>21.96</td>\n",
              "      <td>13</td>\n",
              "      <td>0</td>\n",
              "      <td>0</td>\n",
              "    </tr>\n",
              "    <tr>\n",
              "      <th>3</th>\n",
              "      <td>4</td>\n",
              "      <td>79</td>\n",
              "      <td>2</td>\n",
              "      <td>4</td>\n",
              "      <td>152.2</td>\n",
              "      <td>2</td>\n",
              "      <td>65.3</td>\n",
              "      <td>14.0</td>\n",
              "      <td>95.0</td>\n",
              "      <td>28.17</td>\n",
              "      <td>14</td>\n",
              "      <td>0</td>\n",
              "      <td>0</td>\n",
              "    </tr>\n",
              "    <tr>\n",
              "      <th>4</th>\n",
              "      <td>5</td>\n",
              "      <td>86</td>\n",
              "      <td>1</td>\n",
              "      <td>4</td>\n",
              "      <td>157.3</td>\n",
              "      <td>2</td>\n",
              "      <td>57.3</td>\n",
              "      <td>11.5</td>\n",
              "      <td>88.0</td>\n",
              "      <td>23.16</td>\n",
              "      <td>13</td>\n",
              "      <td>1</td>\n",
              "      <td>0</td>\n",
              "    </tr>\n",
              "    <tr>\n",
              "      <th>...</th>\n",
              "      <td>...</td>\n",
              "      <td>...</td>\n",
              "      <td>...</td>\n",
              "      <td>...</td>\n",
              "      <td>...</td>\n",
              "      <td>...</td>\n",
              "      <td>...</td>\n",
              "      <td>...</td>\n",
              "      <td>...</td>\n",
              "      <td>...</td>\n",
              "      <td>...</td>\n",
              "      <td>...</td>\n",
              "      <td>...</td>\n",
              "    </tr>\n",
              "    <tr>\n",
              "      <th>2294</th>\n",
              "      <td>2295</td>\n",
              "      <td>62</td>\n",
              "      <td>3</td>\n",
              "      <td>4</td>\n",
              "      <td>158.5</td>\n",
              "      <td>2</td>\n",
              "      <td>60.7</td>\n",
              "      <td>14.0</td>\n",
              "      <td>87.0</td>\n",
              "      <td>24.14</td>\n",
              "      <td>14</td>\n",
              "      <td>0</td>\n",
              "      <td>0</td>\n",
              "    </tr>\n",
              "    <tr>\n",
              "      <th>2295</th>\n",
              "      <td>2296</td>\n",
              "      <td>69</td>\n",
              "      <td>2</td>\n",
              "      <td>4</td>\n",
              "      <td>170.0</td>\n",
              "      <td>2</td>\n",
              "      <td>64.6</td>\n",
              "      <td>13.0</td>\n",
              "      <td>89.0</td>\n",
              "      <td>22.35</td>\n",
              "      <td>13</td>\n",
              "      <td>0</td>\n",
              "      <td>0</td>\n",
              "    </tr>\n",
              "    <tr>\n",
              "      <th>2296</th>\n",
              "      <td>2297</td>\n",
              "      <td>67</td>\n",
              "      <td>2</td>\n",
              "      <td>4</td>\n",
              "      <td>163.6</td>\n",
              "      <td>2</td>\n",
              "      <td>68.1</td>\n",
              "      <td>15.0</td>\n",
              "      <td>92.0</td>\n",
              "      <td>25.43</td>\n",
              "      <td>14</td>\n",
              "      <td>0</td>\n",
              "      <td>0</td>\n",
              "    </tr>\n",
              "    <tr>\n",
              "      <th>2297</th>\n",
              "      <td>2298</td>\n",
              "      <td>64</td>\n",
              "      <td>2</td>\n",
              "      <td>4</td>\n",
              "      <td>148.4</td>\n",
              "      <td>2</td>\n",
              "      <td>58.1</td>\n",
              "      <td>11.0</td>\n",
              "      <td>87.0</td>\n",
              "      <td>26.38</td>\n",
              "      <td>13</td>\n",
              "      <td>0</td>\n",
              "      <td>0</td>\n",
              "    </tr>\n",
              "    <tr>\n",
              "      <th>2298</th>\n",
              "      <td>2299</td>\n",
              "      <td>63</td>\n",
              "      <td>2</td>\n",
              "      <td>4</td>\n",
              "      <td>150.5</td>\n",
              "      <td>2</td>\n",
              "      <td>41.1</td>\n",
              "      <td>10.5</td>\n",
              "      <td>67.0</td>\n",
              "      <td>18.12</td>\n",
              "      <td>11</td>\n",
              "      <td>0</td>\n",
              "      <td>0</td>\n",
              "    </tr>\n",
              "  </tbody>\n",
              "</table>\n",
              "<p>2299 rows × 13 columns</p>\n",
              "</div>\n",
              "    <div class=\"colab-df-buttons\">\n",
              "\n",
              "  <div class=\"colab-df-container\">\n",
              "    <button class=\"colab-df-convert\" onclick=\"convertToInteractive('df-24e7f2dc-3c99-40bd-8345-76bdb21612ca')\"\n",
              "            title=\"Convert this dataframe to an interactive table.\"\n",
              "            style=\"display:none;\">\n",
              "\n",
              "  <svg xmlns=\"http://www.w3.org/2000/svg\" height=\"24px\" viewBox=\"0 -960 960 960\">\n",
              "    <path d=\"M120-120v-720h720v720H120Zm60-500h600v-160H180v160Zm220 220h160v-160H400v160Zm0 220h160v-160H400v160ZM180-400h160v-160H180v160Zm440 0h160v-160H620v160ZM180-180h160v-160H180v160Zm440 0h160v-160H620v160Z\"/>\n",
              "  </svg>\n",
              "    </button>\n",
              "\n",
              "  <style>\n",
              "    .colab-df-container {\n",
              "      display:flex;\n",
              "      gap: 12px;\n",
              "    }\n",
              "\n",
              "    .colab-df-convert {\n",
              "      background-color: #E8F0FE;\n",
              "      border: none;\n",
              "      border-radius: 50%;\n",
              "      cursor: pointer;\n",
              "      display: none;\n",
              "      fill: #1967D2;\n",
              "      height: 32px;\n",
              "      padding: 0 0 0 0;\n",
              "      width: 32px;\n",
              "    }\n",
              "\n",
              "    .colab-df-convert:hover {\n",
              "      background-color: #E2EBFA;\n",
              "      box-shadow: 0px 1px 2px rgba(60, 64, 67, 0.3), 0px 1px 3px 1px rgba(60, 64, 67, 0.15);\n",
              "      fill: #174EA6;\n",
              "    }\n",
              "\n",
              "    .colab-df-buttons div {\n",
              "      margin-bottom: 4px;\n",
              "    }\n",
              "\n",
              "    [theme=dark] .colab-df-convert {\n",
              "      background-color: #3B4455;\n",
              "      fill: #D2E3FC;\n",
              "    }\n",
              "\n",
              "    [theme=dark] .colab-df-convert:hover {\n",
              "      background-color: #434B5C;\n",
              "      box-shadow: 0px 1px 3px 1px rgba(0, 0, 0, 0.15);\n",
              "      filter: drop-shadow(0px 1px 2px rgba(0, 0, 0, 0.3));\n",
              "      fill: #FFFFFF;\n",
              "    }\n",
              "  </style>\n",
              "\n",
              "    <script>\n",
              "      const buttonEl =\n",
              "        document.querySelector('#df-24e7f2dc-3c99-40bd-8345-76bdb21612ca button.colab-df-convert');\n",
              "      buttonEl.style.display =\n",
              "        google.colab.kernel.accessAllowed ? 'block' : 'none';\n",
              "\n",
              "      async function convertToInteractive(key) {\n",
              "        const element = document.querySelector('#df-24e7f2dc-3c99-40bd-8345-76bdb21612ca');\n",
              "        const dataTable =\n",
              "          await google.colab.kernel.invokeFunction('convertToInteractive',\n",
              "                                                    [key], {});\n",
              "        if (!dataTable) return;\n",
              "\n",
              "        const docLinkHtml = 'Like what you see? Visit the ' +\n",
              "          '<a target=\"_blank\" href=https://colab.research.google.com/notebooks/data_table.ipynb>data table notebook</a>'\n",
              "          + ' to learn more about interactive tables.';\n",
              "        element.innerHTML = '';\n",
              "        dataTable['output_type'] = 'display_data';\n",
              "        await google.colab.output.renderOutput(dataTable, element);\n",
              "        const docLink = document.createElement('div');\n",
              "        docLink.innerHTML = docLinkHtml;\n",
              "        element.appendChild(docLink);\n",
              "      }\n",
              "    </script>\n",
              "  </div>\n",
              "\n",
              "\n",
              "<div id=\"df-1f63fbc2-d589-4525-8843-1b3f85ef6d47\">\n",
              "  <button class=\"colab-df-quickchart\" onclick=\"quickchart('df-1f63fbc2-d589-4525-8843-1b3f85ef6d47')\"\n",
              "            title=\"Suggest charts\"\n",
              "            style=\"display:none;\">\n",
              "\n",
              "<svg xmlns=\"http://www.w3.org/2000/svg\" height=\"24px\"viewBox=\"0 0 24 24\"\n",
              "     width=\"24px\">\n",
              "    <g>\n",
              "        <path d=\"M19 3H5c-1.1 0-2 .9-2 2v14c0 1.1.9 2 2 2h14c1.1 0 2-.9 2-2V5c0-1.1-.9-2-2-2zM9 17H7v-7h2v7zm4 0h-2V7h2v10zm4 0h-2v-4h2v4z\"/>\n",
              "    </g>\n",
              "</svg>\n",
              "  </button>\n",
              "\n",
              "<style>\n",
              "  .colab-df-quickchart {\n",
              "      --bg-color: #E8F0FE;\n",
              "      --fill-color: #1967D2;\n",
              "      --hover-bg-color: #E2EBFA;\n",
              "      --hover-fill-color: #174EA6;\n",
              "      --disabled-fill-color: #AAA;\n",
              "      --disabled-bg-color: #DDD;\n",
              "  }\n",
              "\n",
              "  [theme=dark] .colab-df-quickchart {\n",
              "      --bg-color: #3B4455;\n",
              "      --fill-color: #D2E3FC;\n",
              "      --hover-bg-color: #434B5C;\n",
              "      --hover-fill-color: #FFFFFF;\n",
              "      --disabled-bg-color: #3B4455;\n",
              "      --disabled-fill-color: #666;\n",
              "  }\n",
              "\n",
              "  .colab-df-quickchart {\n",
              "    background-color: var(--bg-color);\n",
              "    border: none;\n",
              "    border-radius: 50%;\n",
              "    cursor: pointer;\n",
              "    display: none;\n",
              "    fill: var(--fill-color);\n",
              "    height: 32px;\n",
              "    padding: 0;\n",
              "    width: 32px;\n",
              "  }\n",
              "\n",
              "  .colab-df-quickchart:hover {\n",
              "    background-color: var(--hover-bg-color);\n",
              "    box-shadow: 0 1px 2px rgba(60, 64, 67, 0.3), 0 1px 3px 1px rgba(60, 64, 67, 0.15);\n",
              "    fill: var(--button-hover-fill-color);\n",
              "  }\n",
              "\n",
              "  .colab-df-quickchart-complete:disabled,\n",
              "  .colab-df-quickchart-complete:disabled:hover {\n",
              "    background-color: var(--disabled-bg-color);\n",
              "    fill: var(--disabled-fill-color);\n",
              "    box-shadow: none;\n",
              "  }\n",
              "\n",
              "  .colab-df-spinner {\n",
              "    border: 2px solid var(--fill-color);\n",
              "    border-color: transparent;\n",
              "    border-bottom-color: var(--fill-color);\n",
              "    animation:\n",
              "      spin 1s steps(1) infinite;\n",
              "  }\n",
              "\n",
              "  @keyframes spin {\n",
              "    0% {\n",
              "      border-color: transparent;\n",
              "      border-bottom-color: var(--fill-color);\n",
              "      border-left-color: var(--fill-color);\n",
              "    }\n",
              "    20% {\n",
              "      border-color: transparent;\n",
              "      border-left-color: var(--fill-color);\n",
              "      border-top-color: var(--fill-color);\n",
              "    }\n",
              "    30% {\n",
              "      border-color: transparent;\n",
              "      border-left-color: var(--fill-color);\n",
              "      border-top-color: var(--fill-color);\n",
              "      border-right-color: var(--fill-color);\n",
              "    }\n",
              "    40% {\n",
              "      border-color: transparent;\n",
              "      border-right-color: var(--fill-color);\n",
              "      border-top-color: var(--fill-color);\n",
              "    }\n",
              "    60% {\n",
              "      border-color: transparent;\n",
              "      border-right-color: var(--fill-color);\n",
              "    }\n",
              "    80% {\n",
              "      border-color: transparent;\n",
              "      border-right-color: var(--fill-color);\n",
              "      border-bottom-color: var(--fill-color);\n",
              "    }\n",
              "    90% {\n",
              "      border-color: transparent;\n",
              "      border-bottom-color: var(--fill-color);\n",
              "    }\n",
              "  }\n",
              "</style>\n",
              "\n",
              "  <script>\n",
              "    async function quickchart(key) {\n",
              "      const quickchartButtonEl =\n",
              "        document.querySelector('#' + key + ' button');\n",
              "      quickchartButtonEl.disabled = true;  // To prevent multiple clicks.\n",
              "      quickchartButtonEl.classList.add('colab-df-spinner');\n",
              "      try {\n",
              "        const charts = await google.colab.kernel.invokeFunction(\n",
              "            'suggestCharts', [key], {});\n",
              "      } catch (error) {\n",
              "        console.error('Error during call to suggestCharts:', error);\n",
              "      }\n",
              "      quickchartButtonEl.classList.remove('colab-df-spinner');\n",
              "      quickchartButtonEl.classList.add('colab-df-quickchart-complete');\n",
              "    }\n",
              "    (() => {\n",
              "      let quickchartButtonEl =\n",
              "        document.querySelector('#df-1f63fbc2-d589-4525-8843-1b3f85ef6d47 button');\n",
              "      quickchartButtonEl.style.display =\n",
              "        google.colab.kernel.accessAllowed ? 'block' : 'none';\n",
              "    })();\n",
              "  </script>\n",
              "</div>\n",
              "\n",
              "  <div id=\"id_9aa599f3-44b6-42c4-a53b-5f09a514d4f6\">\n",
              "    <style>\n",
              "      .colab-df-generate {\n",
              "        background-color: #E8F0FE;\n",
              "        border: none;\n",
              "        border-radius: 50%;\n",
              "        cursor: pointer;\n",
              "        display: none;\n",
              "        fill: #1967D2;\n",
              "        height: 32px;\n",
              "        padding: 0 0 0 0;\n",
              "        width: 32px;\n",
              "      }\n",
              "\n",
              "      .colab-df-generate:hover {\n",
              "        background-color: #E2EBFA;\n",
              "        box-shadow: 0px 1px 2px rgba(60, 64, 67, 0.3), 0px 1px 3px 1px rgba(60, 64, 67, 0.15);\n",
              "        fill: #174EA6;\n",
              "      }\n",
              "\n",
              "      [theme=dark] .colab-df-generate {\n",
              "        background-color: #3B4455;\n",
              "        fill: #D2E3FC;\n",
              "      }\n",
              "\n",
              "      [theme=dark] .colab-df-generate:hover {\n",
              "        background-color: #434B5C;\n",
              "        box-shadow: 0px 1px 3px 1px rgba(0, 0, 0, 0.15);\n",
              "        filter: drop-shadow(0px 1px 2px rgba(0, 0, 0, 0.3));\n",
              "        fill: #FFFFFF;\n",
              "      }\n",
              "    </style>\n",
              "    <button class=\"colab-df-generate\" onclick=\"generateWithVariable('df')\"\n",
              "            title=\"Generate code using this dataframe.\"\n",
              "            style=\"display:none;\">\n",
              "\n",
              "  <svg xmlns=\"http://www.w3.org/2000/svg\" height=\"24px\"viewBox=\"0 0 24 24\"\n",
              "       width=\"24px\">\n",
              "    <path d=\"M7,19H8.4L18.45,9,17,7.55,7,17.6ZM5,21V16.75L18.45,3.32a2,2,0,0,1,2.83,0l1.4,1.43a1.91,1.91,0,0,1,.58,1.4,1.91,1.91,0,0,1-.58,1.4L9.25,21ZM18.45,9,17,7.55Zm-12,3A5.31,5.31,0,0,0,4.9,8.1,5.31,5.31,0,0,0,1,6.5,5.31,5.31,0,0,0,4.9,4.9,5.31,5.31,0,0,0,6.5,1,5.31,5.31,0,0,0,8.1,4.9,5.31,5.31,0,0,0,12,6.5,5.46,5.46,0,0,0,6.5,12Z\"/>\n",
              "  </svg>\n",
              "    </button>\n",
              "    <script>\n",
              "      (() => {\n",
              "      const buttonEl =\n",
              "        document.querySelector('#id_9aa599f3-44b6-42c4-a53b-5f09a514d4f6 button.colab-df-generate');\n",
              "      buttonEl.style.display =\n",
              "        google.colab.kernel.accessAllowed ? 'block' : 'none';\n",
              "\n",
              "      buttonEl.onclick = () => {\n",
              "        google.colab.notebook.generateWithVariable('df');\n",
              "      }\n",
              "      })();\n",
              "    </script>\n",
              "  </div>\n",
              "\n",
              "    </div>\n",
              "  </div>\n"
            ],
            "application/vnd.google.colaboratory.intrinsic+json": {
              "type": "dataframe",
              "variable_name": "df",
              "summary": "{\n  \"name\": \"df\",\n  \"rows\": 2299,\n  \"fields\": [\n    {\n      \"column\": \"S.no\",\n      \"properties\": {\n        \"dtype\": \"number\",\n        \"std\": 663,\n        \"min\": 1,\n        \"max\": 2299,\n        \"num_unique_values\": 2299,\n        \"samples\": [\n          1086,\n          2298,\n          209\n        ],\n        \"semantic_type\": \"\",\n        \"description\": \"\"\n      }\n    },\n    {\n      \"column\": \"Age\",\n      \"properties\": {\n        \"dtype\": \"number\",\n        \"std\": 8,\n        \"min\": 51,\n        \"max\": 104,\n        \"num_unique_values\": 46,\n        \"samples\": [\n          64,\n          73,\n          94\n        ],\n        \"semantic_type\": \"\",\n        \"description\": \"\"\n      }\n    },\n    {\n      \"column\": \"Education_ID\",\n      \"properties\": {\n        \"dtype\": \"number\",\n        \"std\": 0,\n        \"min\": 1,\n        \"max\": 4,\n        \"num_unique_values\": 4,\n        \"samples\": [\n          2,\n          4,\n          1\n        ],\n        \"semantic_type\": \"\",\n        \"description\": \"\"\n      }\n    },\n    {\n      \"column\": \"Mobility\",\n      \"properties\": {\n        \"dtype\": \"number\",\n        \"std\": 0,\n        \"min\": 1,\n        \"max\": 4,\n        \"num_unique_values\": 4,\n        \"samples\": [\n          2,\n          3,\n          4\n        ],\n        \"semantic_type\": \"\",\n        \"description\": \"\"\n      }\n    },\n    {\n      \"column\": \"body_height\",\n      \"properties\": {\n        \"dtype\": \"number\",\n        \"std\": 8.222128286478764,\n        \"min\": 109.0,\n        \"max\": 184.0,\n        \"num_unique_values\": 381,\n        \"samples\": [\n          163.8,\n          149.1,\n          162.0\n        ],\n        \"semantic_type\": \"\",\n        \"description\": \"\"\n      }\n    },\n    {\n      \"column\": \"MNAa_q3\",\n      \"properties\": {\n        \"dtype\": \"number\",\n        \"std\": 0,\n        \"min\": 0,\n        \"max\": 2,\n        \"num_unique_values\": 3,\n        \"samples\": [\n          2,\n          0,\n          1\n        ],\n        \"semantic_type\": \"\",\n        \"description\": \"\"\n      }\n    },\n    {\n      \"column\": \"body_weight\",\n      \"properties\": {\n        \"dtype\": \"number\",\n        \"std\": 10.27807243906569,\n        \"min\": 21.1,\n        \"max\": 98.0,\n        \"num_unique_values\": 517,\n        \"samples\": [\n          35.5,\n          86.4,\n          72.5\n        ],\n        \"semantic_type\": \"\",\n        \"description\": \"\"\n      }\n    },\n    {\n      \"column\": \"MNAb_tot\",\n      \"properties\": {\n        \"dtype\": \"number\",\n        \"std\": 1.558242986849023,\n        \"min\": 3.0,\n        \"max\": 16.0,\n        \"num_unique_values\": 23,\n        \"samples\": [\n          14.5,\n          12.0,\n          10.5\n        ],\n        \"semantic_type\": \"\",\n        \"description\": \"\"\n      }\n    },\n    {\n      \"column\": \"waist\",\n      \"properties\": {\n        \"dtype\": \"number\",\n        \"std\": 9.974000993507039,\n        \"min\": 57.5,\n        \"max\": 120.0,\n        \"num_unique_values\": 142,\n        \"samples\": [\n          65.5,\n          107.5,\n          61.0\n        ],\n        \"semantic_type\": \"\",\n        \"description\": \"\"\n      }\n    },\n    {\n      \"column\": \"bmi\",\n      \"properties\": {\n        \"dtype\": \"number\",\n        \"std\": 3.6315781414013455,\n        \"min\": 13.44,\n        \"max\": 56.47,\n        \"num_unique_values\": 1119,\n        \"samples\": [\n          31.27,\n          23.74,\n          23.44\n        ],\n        \"semantic_type\": \"\",\n        \"description\": \"\"\n      }\n    },\n    {\n      \"column\": \"MNAa_tot\",\n      \"properties\": {\n        \"dtype\": \"number\",\n        \"std\": 1,\n        \"min\": 4,\n        \"max\": 14,\n        \"num_unique_values\": 11,\n        \"samples\": [\n          8,\n          12,\n          5\n        ],\n        \"semantic_type\": \"\",\n        \"description\": \"\"\n      }\n    },\n    {\n      \"column\": \"Endocrine.Disease_Hyperlipidaemia\",\n      \"properties\": {\n        \"dtype\": \"number\",\n        \"std\": 0,\n        \"min\": 0,\n        \"max\": 1,\n        \"num_unique_values\": 2,\n        \"samples\": [\n          0,\n          1\n        ],\n        \"semantic_type\": \"\",\n        \"description\": \"\"\n      }\n    },\n    {\n      \"column\": \"MMSE_class_2\",\n      \"properties\": {\n        \"dtype\": \"number\",\n        \"std\": 0,\n        \"min\": 0,\n        \"max\": 1,\n        \"num_unique_values\": 2,\n        \"samples\": [\n          1,\n          0\n        ],\n        \"semantic_type\": \"\",\n        \"description\": \"\"\n      }\n    }\n  ]\n}"
            }
          },
          "metadata": {}
        }
      ],
      "source": [
        "display(df)"
      ]
    },
    {
      "cell_type": "markdown",
      "metadata": {
        "id": "4M6ex3vylNPt"
      },
      "source": [
        "### **2.Handling Missing Data**"
      ]
    },
    {
      "cell_type": "markdown",
      "metadata": {
        "id": "VIr7rM2LlTNv"
      },
      "source": [
        "Sometimes we get missing values stated as “NA” (Not Available), so we cannot perform our calculations on such values, first we find if there are any missing values and remove them."
      ]
    },
    {
      "cell_type": "code",
      "execution_count": null,
      "metadata": {
        "colab": {
          "base_uri": "https://localhost:8080/"
        },
        "id": "4w6DBT6hlZho",
        "outputId": "42b55257-d5fc-45a5-f4ed-f70686c307c9"
      },
      "outputs": [
        {
          "output_type": "stream",
          "name": "stdout",
          "text": [
            "There is no missing data.\n"
          ]
        }
      ],
      "source": [
        "## Handling missing values\n",
        "missing_data = df.isnull()\n",
        "if missing_data.any().any():\n",
        "    print(\"There is missing data.\")\n",
        "else:\n",
        "    print(\"There is no missing data.\")"
      ]
    },
    {
      "cell_type": "markdown",
      "metadata": {
        "id": "EA89lpE8lhoo"
      },
      "source": [
        "### **3.Description of the dataset**"
      ]
    },
    {
      "cell_type": "markdown",
      "metadata": {
        "id": "QMVbqHLnloRp"
      },
      "source": [
        "To check the data type and structure of the variables we use the following code:"
      ]
    },
    {
      "cell_type": "code",
      "execution_count": null,
      "metadata": {
        "colab": {
          "base_uri": "https://localhost:8080/"
        },
        "id": "NQuwibvjlsYx",
        "outputId": "1d42b0b7-8668-45d3-c7ee-03ef621c6bbb"
      },
      "outputs": [
        {
          "output_type": "stream",
          "name": "stdout",
          "text": [
            "      S.no  Age  Education_ID  Mobility  body_height  MNAa_q3  body_weight  \\\n",
            "0        1   86             1         4        148.3        2         61.1   \n",
            "1        2   92             2         4        156.2        2         61.5   \n",
            "2        3   81             1         4        146.3        2         47.0   \n",
            "3        4   79             2         4        152.2        2         65.3   \n",
            "4        5   86             1         4        157.3        2         57.3   \n",
            "...    ...  ...           ...       ...          ...      ...          ...   \n",
            "2294  2295   62             3         4        158.5        2         60.7   \n",
            "2295  2296   69             2         4        170.0        2         64.6   \n",
            "2296  2297   67             2         4        163.6        2         68.1   \n",
            "2297  2298   64             2         4        148.4        2         58.1   \n",
            "2298  2299   63             2         4        150.5        2         41.1   \n",
            "\n",
            "      MNAb_tot  waist    bmi  MNAa_tot  Endocrine.Disease_Hyperlipidaemia  \\\n",
            "0         10.5   95.0  27.76        12                                  1   \n",
            "1         15.0   88.0  25.19        14                                  0   \n",
            "2         13.0   73.5  21.96        13                                  0   \n",
            "3         14.0   95.0  28.17        14                                  0   \n",
            "4         11.5   88.0  23.16        13                                  1   \n",
            "...        ...    ...    ...       ...                                ...   \n",
            "2294      14.0   87.0  24.14        14                                  0   \n",
            "2295      13.0   89.0  22.35        13                                  0   \n",
            "2296      15.0   92.0  25.43        14                                  0   \n",
            "2297      11.0   87.0  26.38        13                                  0   \n",
            "2298      10.5   67.0  18.12        11                                  0   \n",
            "\n",
            "      MMSE_class_2  \n",
            "0                0  \n",
            "1                0  \n",
            "2                0  \n",
            "3                0  \n",
            "4                0  \n",
            "...            ...  \n",
            "2294             0  \n",
            "2295             0  \n",
            "2296             0  \n",
            "2297             0  \n",
            "2298             0  \n",
            "\n",
            "[2299 rows x 13 columns]\n"
          ]
        }
      ],
      "source": [
        "print(str(df))"
      ]
    },
    {
      "cell_type": "markdown",
      "metadata": {
        "id": "u3Y3ThJHl1uQ"
      },
      "source": [
        "The data type ‘int’ refers to integers without decimals and ‘num’ refers to numeric data having decimal point."
      ]
    },
    {
      "cell_type": "markdown",
      "metadata": {
        "id": "uNKkqxHur938"
      },
      "source": [
        "# Exploratory Data Analysis"
      ]
    },
    {
      "cell_type": "markdown",
      "metadata": {
        "id": "y0G0c8FH0V7C"
      },
      "source": [
        "This includes summarizing the most important characteristics of the variables through summary statistics and graphical representation to understand the variables and their relationships. This usually includes mean, median, inter-quartile range etc."
      ]
    },
    {
      "cell_type": "markdown",
      "metadata": {
        "id": "TH3_mNkg0fsG"
      },
      "source": [
        "## **Summary Statistics**"
      ]
    },
    {
      "cell_type": "markdown",
      "metadata": {
        "id": "WtCgkkWM0tIf"
      },
      "source": [
        "To get a summarized representation of the important measures of central tendency we use this code."
      ]
    },
    {
      "cell_type": "code",
      "execution_count": null,
      "metadata": {
        "colab": {
          "base_uri": "https://localhost:8080/",
          "height": 320
        },
        "id": "KCEwt9PR0ubr",
        "outputId": "b87f3395-7990-4b81-d061-ed37269fc90f"
      },
      "outputs": [
        {
          "output_type": "execute_result",
          "data": {
            "text/plain": [
              "              S.no          Age  Education_ID     Mobility  body_height  \\\n",
              "count  2299.000000  2299.000000   2299.000000  2299.000000  2299.000000   \n",
              "mean   1150.000000    77.492823      1.994345     3.897782   154.240017   \n",
              "std     663.808456     8.919342      0.834141     0.367867     8.222128   \n",
              "min       1.000000    51.000000      1.000000     1.000000   109.000000   \n",
              "25%     575.500000    70.000000      1.000000     4.000000   148.500000   \n",
              "50%    1150.000000    77.000000      2.000000     4.000000   153.400000   \n",
              "75%    1724.500000    84.000000      3.000000     4.000000   160.000000   \n",
              "max    2299.000000   104.000000      4.000000     4.000000   184.000000   \n",
              "\n",
              "           MNAa_q3  body_weight     MNAb_tot        waist          bmi  \\\n",
              "count  2299.000000  2299.000000  2299.000000  2299.000000  2299.000000   \n",
              "mean      1.979121    57.190626    12.068943    86.476120    23.984663   \n",
              "std       0.178230    10.278072     1.558243     9.974001     3.631578   \n",
              "min       0.000000    21.100000     3.000000    57.500000    13.440000   \n",
              "25%       2.000000    50.050000    11.500000    80.000000    21.565000   \n",
              "50%       2.000000    56.300000    12.500000    86.000000    23.820000   \n",
              "75%       2.000000    63.800000    13.000000    93.000000    26.200000   \n",
              "max       2.000000    98.000000    16.000000   120.000000    56.470000   \n",
              "\n",
              "          MNAa_tot  Endocrine.Disease_Hyperlipidaemia  MMSE_class_2  \n",
              "count  2299.000000                        2299.000000   2299.000000  \n",
              "mean     12.852545                           0.262288      0.185733  \n",
              "std       1.463958                           0.439974      0.388976  \n",
              "min       4.000000                           0.000000      0.000000  \n",
              "25%      12.000000                           0.000000      0.000000  \n",
              "50%      13.000000                           0.000000      0.000000  \n",
              "75%      14.000000                           1.000000      0.000000  \n",
              "max      14.000000                           1.000000      1.000000  "
            ],
            "text/html": [
              "\n",
              "  <div id=\"df-cfdcb5db-8144-4737-bbb0-777be05b5549\" class=\"colab-df-container\">\n",
              "    <div>\n",
              "<style scoped>\n",
              "    .dataframe tbody tr th:only-of-type {\n",
              "        vertical-align: middle;\n",
              "    }\n",
              "\n",
              "    .dataframe tbody tr th {\n",
              "        vertical-align: top;\n",
              "    }\n",
              "\n",
              "    .dataframe thead th {\n",
              "        text-align: right;\n",
              "    }\n",
              "</style>\n",
              "<table border=\"1\" class=\"dataframe\">\n",
              "  <thead>\n",
              "    <tr style=\"text-align: right;\">\n",
              "      <th></th>\n",
              "      <th>S.no</th>\n",
              "      <th>Age</th>\n",
              "      <th>Education_ID</th>\n",
              "      <th>Mobility</th>\n",
              "      <th>body_height</th>\n",
              "      <th>MNAa_q3</th>\n",
              "      <th>body_weight</th>\n",
              "      <th>MNAb_tot</th>\n",
              "      <th>waist</th>\n",
              "      <th>bmi</th>\n",
              "      <th>MNAa_tot</th>\n",
              "      <th>Endocrine.Disease_Hyperlipidaemia</th>\n",
              "      <th>MMSE_class_2</th>\n",
              "    </tr>\n",
              "  </thead>\n",
              "  <tbody>\n",
              "    <tr>\n",
              "      <th>count</th>\n",
              "      <td>2299.000000</td>\n",
              "      <td>2299.000000</td>\n",
              "      <td>2299.000000</td>\n",
              "      <td>2299.000000</td>\n",
              "      <td>2299.000000</td>\n",
              "      <td>2299.000000</td>\n",
              "      <td>2299.000000</td>\n",
              "      <td>2299.000000</td>\n",
              "      <td>2299.000000</td>\n",
              "      <td>2299.000000</td>\n",
              "      <td>2299.000000</td>\n",
              "      <td>2299.000000</td>\n",
              "      <td>2299.000000</td>\n",
              "    </tr>\n",
              "    <tr>\n",
              "      <th>mean</th>\n",
              "      <td>1150.000000</td>\n",
              "      <td>77.492823</td>\n",
              "      <td>1.994345</td>\n",
              "      <td>3.897782</td>\n",
              "      <td>154.240017</td>\n",
              "      <td>1.979121</td>\n",
              "      <td>57.190626</td>\n",
              "      <td>12.068943</td>\n",
              "      <td>86.476120</td>\n",
              "      <td>23.984663</td>\n",
              "      <td>12.852545</td>\n",
              "      <td>0.262288</td>\n",
              "      <td>0.185733</td>\n",
              "    </tr>\n",
              "    <tr>\n",
              "      <th>std</th>\n",
              "      <td>663.808456</td>\n",
              "      <td>8.919342</td>\n",
              "      <td>0.834141</td>\n",
              "      <td>0.367867</td>\n",
              "      <td>8.222128</td>\n",
              "      <td>0.178230</td>\n",
              "      <td>10.278072</td>\n",
              "      <td>1.558243</td>\n",
              "      <td>9.974001</td>\n",
              "      <td>3.631578</td>\n",
              "      <td>1.463958</td>\n",
              "      <td>0.439974</td>\n",
              "      <td>0.388976</td>\n",
              "    </tr>\n",
              "    <tr>\n",
              "      <th>min</th>\n",
              "      <td>1.000000</td>\n",
              "      <td>51.000000</td>\n",
              "      <td>1.000000</td>\n",
              "      <td>1.000000</td>\n",
              "      <td>109.000000</td>\n",
              "      <td>0.000000</td>\n",
              "      <td>21.100000</td>\n",
              "      <td>3.000000</td>\n",
              "      <td>57.500000</td>\n",
              "      <td>13.440000</td>\n",
              "      <td>4.000000</td>\n",
              "      <td>0.000000</td>\n",
              "      <td>0.000000</td>\n",
              "    </tr>\n",
              "    <tr>\n",
              "      <th>25%</th>\n",
              "      <td>575.500000</td>\n",
              "      <td>70.000000</td>\n",
              "      <td>1.000000</td>\n",
              "      <td>4.000000</td>\n",
              "      <td>148.500000</td>\n",
              "      <td>2.000000</td>\n",
              "      <td>50.050000</td>\n",
              "      <td>11.500000</td>\n",
              "      <td>80.000000</td>\n",
              "      <td>21.565000</td>\n",
              "      <td>12.000000</td>\n",
              "      <td>0.000000</td>\n",
              "      <td>0.000000</td>\n",
              "    </tr>\n",
              "    <tr>\n",
              "      <th>50%</th>\n",
              "      <td>1150.000000</td>\n",
              "      <td>77.000000</td>\n",
              "      <td>2.000000</td>\n",
              "      <td>4.000000</td>\n",
              "      <td>153.400000</td>\n",
              "      <td>2.000000</td>\n",
              "      <td>56.300000</td>\n",
              "      <td>12.500000</td>\n",
              "      <td>86.000000</td>\n",
              "      <td>23.820000</td>\n",
              "      <td>13.000000</td>\n",
              "      <td>0.000000</td>\n",
              "      <td>0.000000</td>\n",
              "    </tr>\n",
              "    <tr>\n",
              "      <th>75%</th>\n",
              "      <td>1724.500000</td>\n",
              "      <td>84.000000</td>\n",
              "      <td>3.000000</td>\n",
              "      <td>4.000000</td>\n",
              "      <td>160.000000</td>\n",
              "      <td>2.000000</td>\n",
              "      <td>63.800000</td>\n",
              "      <td>13.000000</td>\n",
              "      <td>93.000000</td>\n",
              "      <td>26.200000</td>\n",
              "      <td>14.000000</td>\n",
              "      <td>1.000000</td>\n",
              "      <td>0.000000</td>\n",
              "    </tr>\n",
              "    <tr>\n",
              "      <th>max</th>\n",
              "      <td>2299.000000</td>\n",
              "      <td>104.000000</td>\n",
              "      <td>4.000000</td>\n",
              "      <td>4.000000</td>\n",
              "      <td>184.000000</td>\n",
              "      <td>2.000000</td>\n",
              "      <td>98.000000</td>\n",
              "      <td>16.000000</td>\n",
              "      <td>120.000000</td>\n",
              "      <td>56.470000</td>\n",
              "      <td>14.000000</td>\n",
              "      <td>1.000000</td>\n",
              "      <td>1.000000</td>\n",
              "    </tr>\n",
              "  </tbody>\n",
              "</table>\n",
              "</div>\n",
              "    <div class=\"colab-df-buttons\">\n",
              "\n",
              "  <div class=\"colab-df-container\">\n",
              "    <button class=\"colab-df-convert\" onclick=\"convertToInteractive('df-cfdcb5db-8144-4737-bbb0-777be05b5549')\"\n",
              "            title=\"Convert this dataframe to an interactive table.\"\n",
              "            style=\"display:none;\">\n",
              "\n",
              "  <svg xmlns=\"http://www.w3.org/2000/svg\" height=\"24px\" viewBox=\"0 -960 960 960\">\n",
              "    <path d=\"M120-120v-720h720v720H120Zm60-500h600v-160H180v160Zm220 220h160v-160H400v160Zm0 220h160v-160H400v160ZM180-400h160v-160H180v160Zm440 0h160v-160H620v160ZM180-180h160v-160H180v160Zm440 0h160v-160H620v160Z\"/>\n",
              "  </svg>\n",
              "    </button>\n",
              "\n",
              "  <style>\n",
              "    .colab-df-container {\n",
              "      display:flex;\n",
              "      gap: 12px;\n",
              "    }\n",
              "\n",
              "    .colab-df-convert {\n",
              "      background-color: #E8F0FE;\n",
              "      border: none;\n",
              "      border-radius: 50%;\n",
              "      cursor: pointer;\n",
              "      display: none;\n",
              "      fill: #1967D2;\n",
              "      height: 32px;\n",
              "      padding: 0 0 0 0;\n",
              "      width: 32px;\n",
              "    }\n",
              "\n",
              "    .colab-df-convert:hover {\n",
              "      background-color: #E2EBFA;\n",
              "      box-shadow: 0px 1px 2px rgba(60, 64, 67, 0.3), 0px 1px 3px 1px rgba(60, 64, 67, 0.15);\n",
              "      fill: #174EA6;\n",
              "    }\n",
              "\n",
              "    .colab-df-buttons div {\n",
              "      margin-bottom: 4px;\n",
              "    }\n",
              "\n",
              "    [theme=dark] .colab-df-convert {\n",
              "      background-color: #3B4455;\n",
              "      fill: #D2E3FC;\n",
              "    }\n",
              "\n",
              "    [theme=dark] .colab-df-convert:hover {\n",
              "      background-color: #434B5C;\n",
              "      box-shadow: 0px 1px 3px 1px rgba(0, 0, 0, 0.15);\n",
              "      filter: drop-shadow(0px 1px 2px rgba(0, 0, 0, 0.3));\n",
              "      fill: #FFFFFF;\n",
              "    }\n",
              "  </style>\n",
              "\n",
              "    <script>\n",
              "      const buttonEl =\n",
              "        document.querySelector('#df-cfdcb5db-8144-4737-bbb0-777be05b5549 button.colab-df-convert');\n",
              "      buttonEl.style.display =\n",
              "        google.colab.kernel.accessAllowed ? 'block' : 'none';\n",
              "\n",
              "      async function convertToInteractive(key) {\n",
              "        const element = document.querySelector('#df-cfdcb5db-8144-4737-bbb0-777be05b5549');\n",
              "        const dataTable =\n",
              "          await google.colab.kernel.invokeFunction('convertToInteractive',\n",
              "                                                    [key], {});\n",
              "        if (!dataTable) return;\n",
              "\n",
              "        const docLinkHtml = 'Like what you see? Visit the ' +\n",
              "          '<a target=\"_blank\" href=https://colab.research.google.com/notebooks/data_table.ipynb>data table notebook</a>'\n",
              "          + ' to learn more about interactive tables.';\n",
              "        element.innerHTML = '';\n",
              "        dataTable['output_type'] = 'display_data';\n",
              "        await google.colab.output.renderOutput(dataTable, element);\n",
              "        const docLink = document.createElement('div');\n",
              "        docLink.innerHTML = docLinkHtml;\n",
              "        element.appendChild(docLink);\n",
              "      }\n",
              "    </script>\n",
              "  </div>\n",
              "\n",
              "\n",
              "<div id=\"df-8860dfa3-72c6-41fa-98ee-5f699e714d6e\">\n",
              "  <button class=\"colab-df-quickchart\" onclick=\"quickchart('df-8860dfa3-72c6-41fa-98ee-5f699e714d6e')\"\n",
              "            title=\"Suggest charts\"\n",
              "            style=\"display:none;\">\n",
              "\n",
              "<svg xmlns=\"http://www.w3.org/2000/svg\" height=\"24px\"viewBox=\"0 0 24 24\"\n",
              "     width=\"24px\">\n",
              "    <g>\n",
              "        <path d=\"M19 3H5c-1.1 0-2 .9-2 2v14c0 1.1.9 2 2 2h14c1.1 0 2-.9 2-2V5c0-1.1-.9-2-2-2zM9 17H7v-7h2v7zm4 0h-2V7h2v10zm4 0h-2v-4h2v4z\"/>\n",
              "    </g>\n",
              "</svg>\n",
              "  </button>\n",
              "\n",
              "<style>\n",
              "  .colab-df-quickchart {\n",
              "      --bg-color: #E8F0FE;\n",
              "      --fill-color: #1967D2;\n",
              "      --hover-bg-color: #E2EBFA;\n",
              "      --hover-fill-color: #174EA6;\n",
              "      --disabled-fill-color: #AAA;\n",
              "      --disabled-bg-color: #DDD;\n",
              "  }\n",
              "\n",
              "  [theme=dark] .colab-df-quickchart {\n",
              "      --bg-color: #3B4455;\n",
              "      --fill-color: #D2E3FC;\n",
              "      --hover-bg-color: #434B5C;\n",
              "      --hover-fill-color: #FFFFFF;\n",
              "      --disabled-bg-color: #3B4455;\n",
              "      --disabled-fill-color: #666;\n",
              "  }\n",
              "\n",
              "  .colab-df-quickchart {\n",
              "    background-color: var(--bg-color);\n",
              "    border: none;\n",
              "    border-radius: 50%;\n",
              "    cursor: pointer;\n",
              "    display: none;\n",
              "    fill: var(--fill-color);\n",
              "    height: 32px;\n",
              "    padding: 0;\n",
              "    width: 32px;\n",
              "  }\n",
              "\n",
              "  .colab-df-quickchart:hover {\n",
              "    background-color: var(--hover-bg-color);\n",
              "    box-shadow: 0 1px 2px rgba(60, 64, 67, 0.3), 0 1px 3px 1px rgba(60, 64, 67, 0.15);\n",
              "    fill: var(--button-hover-fill-color);\n",
              "  }\n",
              "\n",
              "  .colab-df-quickchart-complete:disabled,\n",
              "  .colab-df-quickchart-complete:disabled:hover {\n",
              "    background-color: var(--disabled-bg-color);\n",
              "    fill: var(--disabled-fill-color);\n",
              "    box-shadow: none;\n",
              "  }\n",
              "\n",
              "  .colab-df-spinner {\n",
              "    border: 2px solid var(--fill-color);\n",
              "    border-color: transparent;\n",
              "    border-bottom-color: var(--fill-color);\n",
              "    animation:\n",
              "      spin 1s steps(1) infinite;\n",
              "  }\n",
              "\n",
              "  @keyframes spin {\n",
              "    0% {\n",
              "      border-color: transparent;\n",
              "      border-bottom-color: var(--fill-color);\n",
              "      border-left-color: var(--fill-color);\n",
              "    }\n",
              "    20% {\n",
              "      border-color: transparent;\n",
              "      border-left-color: var(--fill-color);\n",
              "      border-top-color: var(--fill-color);\n",
              "    }\n",
              "    30% {\n",
              "      border-color: transparent;\n",
              "      border-left-color: var(--fill-color);\n",
              "      border-top-color: var(--fill-color);\n",
              "      border-right-color: var(--fill-color);\n",
              "    }\n",
              "    40% {\n",
              "      border-color: transparent;\n",
              "      border-right-color: var(--fill-color);\n",
              "      border-top-color: var(--fill-color);\n",
              "    }\n",
              "    60% {\n",
              "      border-color: transparent;\n",
              "      border-right-color: var(--fill-color);\n",
              "    }\n",
              "    80% {\n",
              "      border-color: transparent;\n",
              "      border-right-color: var(--fill-color);\n",
              "      border-bottom-color: var(--fill-color);\n",
              "    }\n",
              "    90% {\n",
              "      border-color: transparent;\n",
              "      border-bottom-color: var(--fill-color);\n",
              "    }\n",
              "  }\n",
              "</style>\n",
              "\n",
              "  <script>\n",
              "    async function quickchart(key) {\n",
              "      const quickchartButtonEl =\n",
              "        document.querySelector('#' + key + ' button');\n",
              "      quickchartButtonEl.disabled = true;  // To prevent multiple clicks.\n",
              "      quickchartButtonEl.classList.add('colab-df-spinner');\n",
              "      try {\n",
              "        const charts = await google.colab.kernel.invokeFunction(\n",
              "            'suggestCharts', [key], {});\n",
              "      } catch (error) {\n",
              "        console.error('Error during call to suggestCharts:', error);\n",
              "      }\n",
              "      quickchartButtonEl.classList.remove('colab-df-spinner');\n",
              "      quickchartButtonEl.classList.add('colab-df-quickchart-complete');\n",
              "    }\n",
              "    (() => {\n",
              "      let quickchartButtonEl =\n",
              "        document.querySelector('#df-8860dfa3-72c6-41fa-98ee-5f699e714d6e button');\n",
              "      quickchartButtonEl.style.display =\n",
              "        google.colab.kernel.accessAllowed ? 'block' : 'none';\n",
              "    })();\n",
              "  </script>\n",
              "</div>\n",
              "\n",
              "    </div>\n",
              "  </div>\n"
            ],
            "application/vnd.google.colaboratory.intrinsic+json": {
              "type": "dataframe",
              "summary": "{\n  \"name\": \"df\",\n  \"rows\": 8,\n  \"fields\": [\n    {\n      \"column\": \"S.no\",\n      \"properties\": {\n        \"dtype\": \"number\",\n        \"std\": 828.2659455528479,\n        \"min\": 1.0,\n        \"max\": 2299.0,\n        \"num_unique_values\": 6,\n        \"samples\": [\n          2299.0,\n          1150.0,\n          1724.5\n        ],\n        \"semantic_type\": \"\",\n        \"description\": \"\"\n      }\n    },\n    {\n      \"column\": \"Age\",\n      \"properties\": {\n        \"dtype\": \"number\",\n        \"std\": 789.4570483607473,\n        \"min\": 8.919342462576996,\n        \"max\": 2299.0,\n        \"num_unique_values\": 8,\n        \"samples\": [\n          77.49282296650718,\n          77.0,\n          2299.0\n        ],\n        \"semantic_type\": \"\",\n        \"description\": \"\"\n      }\n    },\n    {\n      \"column\": \"Education_ID\",\n      \"properties\": {\n        \"dtype\": \"number\",\n        \"std\": 812.1215358150396,\n        \"min\": 0.8341405550180053,\n        \"max\": 2299.0,\n        \"num_unique_values\": 7,\n        \"samples\": [\n          2299.0,\n          1.9943453675511091,\n          3.0\n        ],\n        \"semantic_type\": \"\",\n        \"description\": \"\"\n      }\n    },\n    {\n      \"column\": \"Mobility\",\n      \"properties\": {\n        \"dtype\": \"number\",\n        \"std\": 811.7465511610827,\n        \"min\": 0.3678665506991878,\n        \"max\": 2299.0,\n        \"num_unique_values\": 5,\n        \"samples\": [\n          3.8977816441931274,\n          4.0,\n          0.3678665506991878\n        ],\n        \"semantic_type\": \"\",\n        \"description\": \"\"\n      }\n    },\n    {\n      \"column\": \"body_height\",\n      \"properties\": {\n        \"dtype\": \"number\",\n        \"std\": 768.3987260006596,\n        \"min\": 8.222128286478764,\n        \"max\": 2299.0,\n        \"num_unique_values\": 8,\n        \"samples\": [\n          154.24001739886907,\n          153.4,\n          2299.0\n        ],\n        \"semantic_type\": \"\",\n        \"description\": \"\"\n      }\n    },\n    {\n      \"column\": \"MNAa_q3\",\n      \"properties\": {\n        \"dtype\": \"number\",\n        \"std\": 812.3066793947048,\n        \"min\": 0.0,\n        \"max\": 2299.0,\n        \"num_unique_values\": 5,\n        \"samples\": [\n          1.9791213571117878,\n          2.0,\n          0.17822964760440294\n        ],\n        \"semantic_type\": \"\",\n        \"description\": \"\"\n      }\n    },\n    {\n      \"column\": \"body_weight\",\n      \"properties\": {\n        \"dtype\": \"number\",\n        \"std\": 795.250771151827,\n        \"min\": 10.27807243906569,\n        \"max\": 2299.0,\n        \"num_unique_values\": 8,\n        \"samples\": [\n          57.19062635928665,\n          56.3,\n          2299.0\n        ],\n        \"semantic_type\": \"\",\n        \"description\": \"\"\n      }\n    },\n    {\n      \"column\": \"MNAb_tot\",\n      \"properties\": {\n        \"dtype\": \"number\",\n        \"std\": 809.3182531543114,\n        \"min\": 1.558242986849023,\n        \"max\": 2299.0,\n        \"num_unique_values\": 8,\n        \"samples\": [\n          12.068943018703784,\n          12.5,\n          2299.0\n        ],\n        \"semantic_type\": \"\",\n        \"description\": \"\"\n      }\n    },\n    {\n      \"column\": \"waist\",\n      \"properties\": {\n        \"dtype\": \"number\",\n        \"std\": 786.5509849993155,\n        \"min\": 9.974000993507039,\n        \"max\": 2299.0,\n        \"num_unique_values\": 8,\n        \"samples\": [\n          86.47612005219659,\n          86.0,\n          2299.0\n        ],\n        \"semantic_type\": \"\",\n        \"description\": \"\"\n      }\n    },\n    {\n      \"column\": \"bmi\",\n      \"properties\": {\n        \"dtype\": \"number\",\n        \"std\": 804.4191508048893,\n        \"min\": 3.6315781414013455,\n        \"max\": 2299.0,\n        \"num_unique_values\": 8,\n        \"samples\": [\n          23.984662896911697,\n          23.82,\n          2299.0\n        ],\n        \"semantic_type\": \"\",\n        \"description\": \"\"\n      }\n    },\n    {\n      \"column\": \"MNAa_tot\",\n      \"properties\": {\n        \"dtype\": \"number\",\n        \"std\": 809.2314952811262,\n        \"min\": 1.4639581487696407,\n        \"max\": 2299.0,\n        \"num_unique_values\": 7,\n        \"samples\": [\n          2299.0,\n          12.852544584602,\n          13.0\n        ],\n        \"semantic_type\": \"\",\n        \"description\": \"\"\n      }\n    },\n    {\n      \"column\": \"Endocrine.Disease_Hyperlipidaemia\",\n      \"properties\": {\n        \"dtype\": \"number\",\n        \"std\": 812.6828672892001,\n        \"min\": 0.0,\n        \"max\": 2299.0,\n        \"num_unique_values\": 5,\n        \"samples\": [\n          0.2622879512831666,\n          1.0,\n          0.4399740702543646\n        ],\n        \"semantic_type\": \"\",\n        \"description\": \"\"\n      }\n    },\n    {\n      \"column\": \"MMSE_class_2\",\n      \"properties\": {\n        \"dtype\": \"number\",\n        \"std\": 812.739783264692,\n        \"min\": 0.0,\n        \"max\": 2299.0,\n        \"num_unique_values\": 5,\n        \"samples\": [\n          0.1857329273597216,\n          1.0,\n          0.38897560226144745\n        ],\n        \"semantic_type\": \"\",\n        \"description\": \"\"\n      }\n    }\n  ]\n}"
            }
          },
          "metadata": {},
          "execution_count": 10
        }
      ],
      "source": [
        "df.describe()"
      ]
    },
    {
      "cell_type": "code",
      "execution_count": null,
      "metadata": {
        "colab": {
          "base_uri": "https://localhost:8080/"
        },
        "id": "h6zPw_iL2dwS",
        "outputId": "25040ffc-213d-404e-c1c3-c69d24d05b1a"
      },
      "outputs": [
        {
          "output_type": "execute_result",
          "data": {
            "text/plain": [
              "0       86\n",
              "1       92\n",
              "2       81\n",
              "3       79\n",
              "4       86\n",
              "        ..\n",
              "2294    62\n",
              "2295    69\n",
              "2296    67\n",
              "2297    64\n",
              "2298    63\n",
              "Name: Age, Length: 2299, dtype: int64"
            ]
          },
          "metadata": {},
          "execution_count": 11
        }
      ],
      "source": [
        "asd=df['Age']\n",
        "asd"
      ]
    },
    {
      "cell_type": "code",
      "execution_count": null,
      "metadata": {
        "colab": {
          "base_uri": "https://localhost:8080/"
        },
        "id": "unUnGTSV2rs5",
        "outputId": "7b1075d0-5793-49cc-ea87-28da350aa372"
      },
      "outputs": [
        {
          "output_type": "execute_result",
          "data": {
            "text/plain": [
              "count    2299.000000\n",
              "mean       77.492823\n",
              "std         8.919342\n",
              "min        51.000000\n",
              "25%        70.000000\n",
              "50%        77.000000\n",
              "75%        84.000000\n",
              "max       104.000000\n",
              "Name: Age, dtype: float64"
            ]
          },
          "metadata": {},
          "execution_count": 12
        }
      ],
      "source": [
        "summary = asd.describe()\n",
        "summary"
      ]
    },
    {
      "cell_type": "code",
      "execution_count": null,
      "metadata": {
        "colab": {
          "base_uri": "https://localhost:8080/"
        },
        "id": "-jCKNOnF25En",
        "outputId": "2480eceb-ca42-4696-ba95-85f9a347ee0c"
      },
      "outputs": [
        {
          "output_type": "execute_result",
          "data": {
            "text/plain": [
              "0       1\n",
              "1       2\n",
              "2       1\n",
              "3       2\n",
              "4       1\n",
              "       ..\n",
              "2294    3\n",
              "2295    2\n",
              "2296    2\n",
              "2297    2\n",
              "2298    2\n",
              "Name: Education_ID, Length: 2299, dtype: int64"
            ]
          },
          "metadata": {},
          "execution_count": 13
        }
      ],
      "source": [
        "asd=df['Education_ID']\n",
        "asd"
      ]
    },
    {
      "cell_type": "code",
      "execution_count": null,
      "metadata": {
        "colab": {
          "base_uri": "https://localhost:8080/"
        },
        "id": "tSUWkqZq3fOe",
        "outputId": "8521cc91-afec-4401-c30d-b14357259a65"
      },
      "outputs": [
        {
          "output_type": "execute_result",
          "data": {
            "text/plain": [
              "count    2299.000000\n",
              "mean        1.994345\n",
              "std         0.834141\n",
              "min         1.000000\n",
              "25%         1.000000\n",
              "50%         2.000000\n",
              "75%         3.000000\n",
              "max         4.000000\n",
              "Name: Education_ID, dtype: float64"
            ]
          },
          "metadata": {},
          "execution_count": 14
        }
      ],
      "source": [
        "summary = asd.describe()\n",
        "summary"
      ]
    },
    {
      "cell_type": "code",
      "execution_count": null,
      "metadata": {
        "colab": {
          "base_uri": "https://localhost:8080/"
        },
        "id": "91DJpMwO44Af",
        "outputId": "ad731c00-09bd-4343-bef5-36cb1d4c70fc"
      },
      "outputs": [
        {
          "output_type": "execute_result",
          "data": {
            "text/plain": [
              "0       27.76\n",
              "1       25.19\n",
              "2       21.96\n",
              "3       28.17\n",
              "4       23.16\n",
              "        ...  \n",
              "2294    24.14\n",
              "2295    22.35\n",
              "2296    25.43\n",
              "2297    26.38\n",
              "2298    18.12\n",
              "Name: bmi, Length: 2299, dtype: float64"
            ]
          },
          "metadata": {},
          "execution_count": 15
        }
      ],
      "source": [
        "asd=df['bmi']\n",
        "asd"
      ]
    },
    {
      "cell_type": "code",
      "execution_count": null,
      "metadata": {
        "colab": {
          "base_uri": "https://localhost:8080/"
        },
        "id": "3f3BnCAu48-f",
        "outputId": "91407c96-2533-4823-e717-b6d5d92cddee"
      },
      "outputs": [
        {
          "output_type": "execute_result",
          "data": {
            "text/plain": [
              "count    2299.000000\n",
              "mean       23.984663\n",
              "std         3.631578\n",
              "min        13.440000\n",
              "25%        21.565000\n",
              "50%        23.820000\n",
              "75%        26.200000\n",
              "max        56.470000\n",
              "Name: bmi, dtype: float64"
            ]
          },
          "metadata": {},
          "execution_count": 17
        }
      ],
      "source": [
        "summary = asd.describe()\n",
        "summary"
      ]
    },
    {
      "cell_type": "code",
      "execution_count": null,
      "metadata": {
        "colab": {
          "base_uri": "https://localhost:8080/"
        },
        "id": "xKBsX4F_5Epf",
        "outputId": "3f922736-662b-4687-8e02-8f8cb85de962"
      },
      "outputs": [
        {
          "output_type": "execute_result",
          "data": {
            "text/plain": [
              "0       148.3\n",
              "1       156.2\n",
              "2       146.3\n",
              "3       152.2\n",
              "4       157.3\n",
              "        ...  \n",
              "2294    158.5\n",
              "2295    170.0\n",
              "2296    163.6\n",
              "2297    148.4\n",
              "2298    150.5\n",
              "Name: body_height, Length: 2299, dtype: float64"
            ]
          },
          "metadata": {},
          "execution_count": 18
        }
      ],
      "source": [
        "asd=df['body_height']\n",
        "asd"
      ]
    },
    {
      "cell_type": "code",
      "execution_count": null,
      "metadata": {
        "colab": {
          "base_uri": "https://localhost:8080/"
        },
        "id": "ckcM3kQA5TRX",
        "outputId": "620ef9bf-3b6d-440f-b990-12db96caab4b"
      },
      "outputs": [
        {
          "output_type": "execute_result",
          "data": {
            "text/plain": [
              "count    2299.000000\n",
              "mean      154.240017\n",
              "std         8.222128\n",
              "min       109.000000\n",
              "25%       148.500000\n",
              "50%       153.400000\n",
              "75%       160.000000\n",
              "max       184.000000\n",
              "Name: body_height, dtype: float64"
            ]
          },
          "metadata": {},
          "execution_count": 19
        }
      ],
      "source": [
        "summary = asd.describe()\n",
        "summary"
      ]
    },
    {
      "cell_type": "code",
      "execution_count": null,
      "metadata": {
        "colab": {
          "base_uri": "https://localhost:8080/"
        },
        "id": "x7IF_3ZE5gUT",
        "outputId": "e316d8fe-2883-473c-f0fc-31ab06670f43"
      },
      "outputs": [
        {
          "output_type": "execute_result",
          "data": {
            "text/plain": [
              "0       61.1\n",
              "1       61.5\n",
              "2       47.0\n",
              "3       65.3\n",
              "4       57.3\n",
              "        ... \n",
              "2294    60.7\n",
              "2295    64.6\n",
              "2296    68.1\n",
              "2297    58.1\n",
              "2298    41.1\n",
              "Name: body_weight, Length: 2299, dtype: float64"
            ]
          },
          "metadata": {},
          "execution_count": 20
        }
      ],
      "source": [
        "asd=df['body_weight']\n",
        "asd"
      ]
    },
    {
      "cell_type": "code",
      "execution_count": null,
      "metadata": {
        "colab": {
          "base_uri": "https://localhost:8080/"
        },
        "id": "oEUy2b3c5oMo",
        "outputId": "922e632a-4bac-4367-d92e-ede955719cd7"
      },
      "outputs": [
        {
          "output_type": "execute_result",
          "data": {
            "text/plain": [
              "count    2299.000000\n",
              "mean       57.190626\n",
              "std        10.278072\n",
              "min        21.100000\n",
              "25%        50.050000\n",
              "50%        56.300000\n",
              "75%        63.800000\n",
              "max        98.000000\n",
              "Name: body_weight, dtype: float64"
            ]
          },
          "metadata": {},
          "execution_count": 21
        }
      ],
      "source": [
        "summary = asd.describe()\n",
        "summary"
      ]
    },
    {
      "cell_type": "code",
      "execution_count": null,
      "metadata": {
        "colab": {
          "base_uri": "https://localhost:8080/"
        },
        "id": "u5dze8vV84_p",
        "outputId": "257ab6c7-ab19-4c17-cf25-3575dae5e248"
      },
      "outputs": [
        {
          "output_type": "execute_result",
          "data": {
            "text/plain": [
              "0       95.0\n",
              "1       88.0\n",
              "2       73.5\n",
              "3       95.0\n",
              "4       88.0\n",
              "        ... \n",
              "2294    87.0\n",
              "2295    89.0\n",
              "2296    92.0\n",
              "2297    87.0\n",
              "2298    67.0\n",
              "Name: waist, Length: 2299, dtype: float64"
            ]
          },
          "metadata": {},
          "execution_count": 22
        }
      ],
      "source": [
        "asd=df['waist']\n",
        "asd"
      ]
    },
    {
      "cell_type": "code",
      "execution_count": null,
      "metadata": {
        "colab": {
          "base_uri": "https://localhost:8080/"
        },
        "id": "Uzabfky89G1q",
        "outputId": "68854bdf-896a-4eac-bd0c-b296c53d7533"
      },
      "outputs": [
        {
          "output_type": "execute_result",
          "data": {
            "text/plain": [
              "count    2299.000000\n",
              "mean       86.476120\n",
              "std         9.974001\n",
              "min        57.500000\n",
              "25%        80.000000\n",
              "50%        86.000000\n",
              "75%        93.000000\n",
              "max       120.000000\n",
              "Name: waist, dtype: float64"
            ]
          },
          "metadata": {},
          "execution_count": 23
        }
      ],
      "source": [
        "summary = asd.describe()\n",
        "summary"
      ]
    },
    {
      "cell_type": "code",
      "execution_count": null,
      "metadata": {
        "colab": {
          "base_uri": "https://localhost:8080/"
        },
        "id": "WCuAegOf9JUO",
        "outputId": "521e4b3d-12df-4e86-ce95-3eda89160f27"
      },
      "outputs": [
        {
          "output_type": "execute_result",
          "data": {
            "text/plain": [
              "0       2\n",
              "1       2\n",
              "2       2\n",
              "3       2\n",
              "4       2\n",
              "       ..\n",
              "2294    2\n",
              "2295    2\n",
              "2296    2\n",
              "2297    2\n",
              "2298    2\n",
              "Name: MNAa_q3, Length: 2299, dtype: int64"
            ]
          },
          "metadata": {},
          "execution_count": 24
        }
      ],
      "source": [
        "asd=df['MNAa_q3']\n",
        "asd"
      ]
    },
    {
      "cell_type": "code",
      "execution_count": null,
      "metadata": {
        "colab": {
          "base_uri": "https://localhost:8080/"
        },
        "id": "79cAnfJh9ZOC",
        "outputId": "c2cae4cf-3278-4461-e73d-8876f49fcf23"
      },
      "outputs": [
        {
          "output_type": "execute_result",
          "data": {
            "text/plain": [
              "count    2299.000000\n",
              "mean        1.979121\n",
              "std         0.178230\n",
              "min         0.000000\n",
              "25%         2.000000\n",
              "50%         2.000000\n",
              "75%         2.000000\n",
              "max         2.000000\n",
              "Name: MNAa_q3, dtype: float64"
            ]
          },
          "metadata": {},
          "execution_count": 25
        }
      ],
      "source": [
        "summary = asd.describe()\n",
        "summary"
      ]
    },
    {
      "cell_type": "code",
      "execution_count": null,
      "metadata": {
        "colab": {
          "base_uri": "https://localhost:8080/"
        },
        "id": "r4jh0CQW9b4N",
        "outputId": "2d3a88a3-d571-4548-be87-74e4f023c70f"
      },
      "outputs": [
        {
          "output_type": "execute_result",
          "data": {
            "text/plain": [
              "0       10.5\n",
              "1       15.0\n",
              "2       13.0\n",
              "3       14.0\n",
              "4       11.5\n",
              "        ... \n",
              "2294    14.0\n",
              "2295    13.0\n",
              "2296    15.0\n",
              "2297    11.0\n",
              "2298    10.5\n",
              "Name: MNAb_tot, Length: 2299, dtype: float64"
            ]
          },
          "metadata": {},
          "execution_count": 26
        }
      ],
      "source": [
        "asd=df['MNAb_tot']\n",
        "asd"
      ]
    },
    {
      "cell_type": "code",
      "execution_count": null,
      "metadata": {
        "colab": {
          "base_uri": "https://localhost:8080/"
        },
        "id": "wvpva2wX9mn7",
        "outputId": "d4b3af7e-01dc-4294-b904-44dcb46c7035"
      },
      "outputs": [
        {
          "output_type": "execute_result",
          "data": {
            "text/plain": [
              "count    2299.000000\n",
              "mean       12.068943\n",
              "std         1.558243\n",
              "min         3.000000\n",
              "25%        11.500000\n",
              "50%        12.500000\n",
              "75%        13.000000\n",
              "max        16.000000\n",
              "Name: MNAb_tot, dtype: float64"
            ]
          },
          "metadata": {},
          "execution_count": 27
        }
      ],
      "source": [
        "summary = asd.describe()\n",
        "summary"
      ]
    },
    {
      "cell_type": "markdown",
      "metadata": {
        "id": "HocFyZE0944I"
      },
      "source": [
        "## **Tabulation and Visualization**"
      ]
    },
    {
      "cell_type": "markdown",
      "metadata": {
        "id": "Je2aTSTSBN1m"
      },
      "source": [
        "To show the categorical data variables in a tabular manner we have used the following code, then we have visualized the data using Barplot so that we get a clear idea of how many people fall into a particular category."
      ]
    },
    {
      "cell_type": "markdown",
      "metadata": {
        "id": "6SGL5nStBVOU"
      },
      "source": [
        "\n",
        "###   **1.Education_ID**\n"
      ]
    },
    {
      "cell_type": "code",
      "execution_count": null,
      "metadata": {
        "colab": {
          "base_uri": "https://localhost:8080/"
        },
        "id": "Mm8W0cJuBbcc",
        "outputId": "a5a5166f-bf13-4099-df23-a31b91ab29d2"
      },
      "outputs": [
        {
          "output_type": "execute_result",
          "data": {
            "text/plain": [
              "715"
            ]
          },
          "metadata": {},
          "execution_count": 28
        }
      ],
      "source": [
        "no_formal_eduaction =(df['Education_ID']==1).sum()\n",
        "no_formal_eduaction"
      ]
    },
    {
      "cell_type": "code",
      "execution_count": null,
      "metadata": {
        "colab": {
          "base_uri": "https://localhost:8080/"
        },
        "id": "ZXrqtka8B8q4",
        "outputId": "2b151fbf-5155-4f06-9e4f-b8a79c6d60a1"
      },
      "outputs": [
        {
          "output_type": "execute_result",
          "data": {
            "text/plain": [
              "973"
            ]
          },
          "metadata": {},
          "execution_count": 29
        }
      ],
      "source": [
        "elemenatry_school_level =(df['Education_ID']==2).sum()\n",
        "elemenatry_school_level"
      ]
    },
    {
      "cell_type": "code",
      "execution_count": null,
      "metadata": {
        "colab": {
          "base_uri": "https://localhost:8080/"
        },
        "id": "vvkrF795CInu",
        "outputId": "90c0f603-d80a-4854-d6dd-663e38fa038f"
      },
      "outputs": [
        {
          "output_type": "execute_result",
          "data": {
            "text/plain": [
              "520"
            ]
          },
          "metadata": {},
          "execution_count": 30
        }
      ],
      "source": [
        "high_school_level=(df['Education_ID']==3).sum()\n",
        "high_school_level"
      ]
    },
    {
      "cell_type": "code",
      "execution_count": null,
      "metadata": {
        "colab": {
          "base_uri": "https://localhost:8080/"
        },
        "id": "22OYlPXUCKuN",
        "outputId": "78e31c35-f75a-4d8a-d43b-c00730138056"
      },
      "outputs": [
        {
          "output_type": "execute_result",
          "data": {
            "text/plain": [
              "91"
            ]
          },
          "metadata": {},
          "execution_count": 31
        }
      ],
      "source": [
        "college_level_or_above=(df['Education_ID']==4).sum()\n",
        "college_level_or_above"
      ]
    },
    {
      "cell_type": "markdown",
      "metadata": {
        "id": "m9kVQsasH-Z6"
      },
      "source": [
        "Above we can see the data categorized in a table showing number of people as values. This table categorizes people on the basis of their education levels."
      ]
    },
    {
      "cell_type": "markdown",
      "metadata": {
        "id": "sVQ6USVNIDpy"
      },
      "source": [
        "**Visualization**"
      ]
    },
    {
      "cell_type": "markdown",
      "metadata": {
        "id": "Fu5dAqUkI3uX"
      },
      "source": [
        "To analyze the results of the study in an interactive way we use graphical methods, one such method is a Barplot. Here is a Barplot for education_id."
      ]
    },
    {
      "cell_type": "code",
      "execution_count": null,
      "metadata": {
        "colab": {
          "base_uri": "https://localhost:8080/"
        },
        "id": "TBkn7h-Pg9on",
        "outputId": "7c16f595-7def-4623-ae3a-cd23276f0791"
      },
      "outputs": [
        {
          "output_type": "execute_result",
          "data": {
            "text/plain": [
              "{'no_formal_eduaction': 715,\n",
              " 'elemenatry_school_level': 973,\n",
              " 'high_school_level': 520,\n",
              " 'college_level_or_above': 91}"
            ]
          },
          "metadata": {},
          "execution_count": 32
        }
      ],
      "source": [
        "data = {'no_formal_eduaction':715, 'elemenatry_school_level':973, 'high_school_level':520,\n",
        "        'college_level_or_above':91}\n",
        "data"
      ]
    },
    {
      "cell_type": "code",
      "execution_count": null,
      "metadata": {
        "id": "yyEJduizIFAu"
      },
      "outputs": [],
      "source": [
        "p1=list(data.keys())"
      ]
    },
    {
      "cell_type": "code",
      "execution_count": null,
      "metadata": {
        "id": "UQwDvxATIIGG"
      },
      "outputs": [],
      "source": [
        "p2=list(data.values())"
      ]
    },
    {
      "cell_type": "code",
      "execution_count": null,
      "metadata": {
        "colab": {
          "base_uri": "https://localhost:8080/",
          "height": 447
        },
        "id": "yER92poXIOG4",
        "outputId": "5bb93dc6-8cb4-4408-b446-2414d0054ef6"
      },
      "outputs": [
        {
          "output_type": "execute_result",
          "data": {
            "text/plain": [
              "<BarContainer object of 4 artists>"
            ]
          },
          "metadata": {},
          "execution_count": 35
        },
        {
          "output_type": "display_data",
          "data": {
            "text/plain": [
              "<Figure size 640x480 with 1 Axes>"
            ],
            "image/png": "[encoded data removed]"
          },
          "metadata": {}
        }
      ],
      "source": [
        "plt.bar(x=p1, height=p2, color=(\"red\",\"green\",\"blue\",\"yellow\"))"
      ]
    },
    {
      "cell_type": "markdown",
      "source": [
        "\n",
        "### **2.Mobility-level**\n"
      ],
      "metadata": {
        "id": "PObKl-biWr6F"
      }
    },
    {
      "cell_type": "markdown",
      "source": [
        "How many people are able to move on their own and how many need support."
      ],
      "metadata": {
        "id": "U66cs7fWWyUH"
      }
    },
    {
      "cell_type": "code",
      "execution_count": null,
      "metadata": {
        "colab": {
          "base_uri": "https://localhost:8080/"
        },
        "id": "gqsmvm2lIeiG",
        "outputId": "b6413b75-68be-43f1-fcd8-0e1debe7b44d"
      },
      "outputs": [
        {
          "data": {
            "text/plain": [
              "15"
            ]
          },
          "execution_count": 39,
          "metadata": {},
          "output_type": "execute_result"
        }
      ],
      "source": [
        "Wheelchair =(df['Mobility']==1).sum()\n",
        "Wheelchair"
      ]
    },
    {
      "cell_type": "code",
      "execution_count": null,
      "metadata": {
        "colab": {
          "base_uri": "https://localhost:8080/"
        },
        "id": "_7E_lqeoIhAX",
        "outputId": "46f36b3c-4670-42f9-b8c6-e4d450efee6f"
      },
      "outputs": [
        {
          "data": {
            "text/plain": [
              "5"
            ]
          },
          "execution_count": 40,
          "metadata": {},
          "output_type": "execute_result"
        }
      ],
      "source": [
        "Walker =(df['Mobility']==2).sum()\n",
        "Walker"
      ]
    },
    {
      "cell_type": "code",
      "execution_count": null,
      "metadata": {
        "colab": {
          "base_uri": "https://localhost:8080/"
        },
        "id": "LT9cjbkFIk-B",
        "outputId": "d77969f4-731a-420f-9210-260df7f3d15e"
      },
      "outputs": [
        {
          "data": {
            "text/plain": [
              "180"
            ]
          },
          "execution_count": 41,
          "metadata": {},
          "output_type": "execute_result"
        }
      ],
      "source": [
        "Cane =(df['Mobility']==3).sum()\n",
        "Cane"
      ]
    },
    {
      "cell_type": "code",
      "execution_count": null,
      "metadata": {
        "colab": {
          "base_uri": "https://localhost:8080/"
        },
        "id": "1hmmV7a2InmO",
        "outputId": "da576395-57fb-4f02-f62e-c4396c73d64e"
      },
      "outputs": [
        {
          "output_type": "execute_result",
          "data": {
            "text/plain": [
              "2099"
            ]
          },
          "metadata": {},
          "execution_count": 36
        }
      ],
      "source": [
        "Selfmobility=(df['Mobility']==4).sum()\n",
        "Selfmobility"
      ]
    },
    {
      "cell_type": "code",
      "execution_count": null,
      "metadata": {
        "colab": {
          "base_uri": "https://localhost:8080/"
        },
        "id": "jmaLpt-kMof0",
        "outputId": "4f962a87-c732-430c-f59b-8373a05fa0b2"
      },
      "outputs": [
        {
          "output_type": "execute_result",
          "data": {
            "text/plain": [
              "{'Wheelchair': 15, 'Walker': 2, 'Cane': 180, 'Selfmobility': 2099}"
            ]
          },
          "metadata": {},
          "execution_count": 37
        }
      ],
      "source": [
        "data = {'Wheelchair':15, 'Walker':2, 'Cane':180,\n",
        "        'Selfmobility':2099}\n",
        "data"
      ]
    },
    {
      "cell_type": "code",
      "execution_count": null,
      "metadata": {
        "id": "bypmXA2SNAam"
      },
      "outputs": [],
      "source": [
        "p1=list(data.keys())"
      ]
    },
    {
      "cell_type": "code",
      "execution_count": null,
      "metadata": {
        "id": "NOlF0vpjNCQv"
      },
      "outputs": [],
      "source": [
        "p2=list(data.values())"
      ]
    },
    {
      "cell_type": "code",
      "execution_count": null,
      "metadata": {
        "colab": {
          "base_uri": "https://localhost:8080/",
          "height": 447
        },
        "id": "mUnBCE_MNLoz",
        "outputId": "54fe2ca2-d86f-46f2-f0fe-bb3fde610493"
      },
      "outputs": [
        {
          "output_type": "execute_result",
          "data": {
            "text/plain": [
              "<BarContainer object of 4 artists>"
            ]
          },
          "metadata": {},
          "execution_count": 40
        },
        {
          "output_type": "display_data",
          "data": {
            "text/plain": [
              "<Figure size 640x480 with 1 Axes>"
            ],
            "image/png": "[encoded data removed]"
          },
          "metadata": {}
        }
      ],
      "source": [
        "plt.bar(x=p1, height=p2, color=(\"blue\",\"brown\",\"orange\",\"purple\"))"
      ]
    },
    {
      "cell_type": "markdown",
      "metadata": {
        "id": "pVz5RWqeNeV8"
      },
      "source": [
        "### **3. Risk of Dementia**"
      ]
    },
    {
      "cell_type": "markdown",
      "metadata": {
        "id": "IGbP3D-zOjO_"
      },
      "source": [
        "How many people are at risk of having dementia."
      ]
    },
    {
      "cell_type": "code",
      "execution_count": null,
      "metadata": {
        "colab": {
          "base_uri": "https://localhost:8080/"
        },
        "id": "Qpx64UIdOmMM",
        "outputId": "5c5af5da-59de-4d87-ae03-df06fb9239d6"
      },
      "outputs": [
        {
          "output_type": "execute_result",
          "data": {
            "text/plain": [
              "1872"
            ]
          },
          "metadata": {},
          "execution_count": 53
        }
      ],
      "source": [
        "Norisk=(df[ 'MMSE_class_2']==0).sum()\n",
        "Norisk"
      ]
    },
    {
      "cell_type": "code",
      "source": [
        "risk=(df[ 'MMSE_class_2']==1).sum()\n",
        "risk"
      ],
      "metadata": {
        "colab": {
          "base_uri": "https://localhost:8080/"
        },
        "id": "JSv-CDYEGc9n",
        "outputId": "98307ca7-0fac-4ae1-f4aa-6469d4d94b34"
      },
      "execution_count": null,
      "outputs": [
        {
          "output_type": "execute_result",
          "data": {
            "text/plain": [
              "427"
            ]
          },
          "metadata": {},
          "execution_count": 54
        }
      ]
    },
    {
      "cell_type": "code",
      "source": [
        "data = {'Norisk':1871, 'risk':427}\n",
        "data"
      ],
      "metadata": {
        "colab": {
          "base_uri": "https://localhost:8080/"
        },
        "id": "pl3h0CbZGjDE",
        "outputId": "78a1c7f7-7ee2-45be-b77d-a7d68e7c889b"
      },
      "execution_count": null,
      "outputs": [
        {
          "output_type": "execute_result",
          "data": {
            "text/plain": [
              "{'Norisk': 1871, 'risk': 427}"
            ]
          },
          "metadata": {},
          "execution_count": 55
        }
      ]
    },
    {
      "cell_type": "code",
      "source": [
        "p1=list(data.keys())"
      ],
      "metadata": {
        "id": "3o0NBe-IHBdg"
      },
      "execution_count": null,
      "outputs": []
    },
    {
      "cell_type": "code",
      "source": [
        "p2=list(data.values())"
      ],
      "metadata": {
        "id": "DYBBX17HHGDF"
      },
      "execution_count": null,
      "outputs": []
    },
    {
      "cell_type": "code",
      "source": [
        "plt.bar(x=p1, height=p2, color=(\"blue\",\"yellow\"))"
      ],
      "metadata": {
        "colab": {
          "base_uri": "https://localhost:8080/",
          "height": 447
        },
        "id": "13s4em1UHM6h",
        "outputId": "62ce70af-9c7d-4aaa-cc90-2ea4f10bb27e"
      },
      "execution_count": null,
      "outputs": [
        {
          "output_type": "execute_result",
          "data": {
            "text/plain": [
              "<BarContainer object of 2 artists>"
            ]
          },
          "metadata": {},
          "execution_count": 58
        },
        {
          "output_type": "display_data",
          "data": {
            "text/plain": [
              "<Figure size 640x480 with 1 Axes>"
            ],
            "image/png": "[encoded data removed]"
          },
          "metadata": {}
        }
      ]
    },
    {
      "cell_type": "markdown",
      "source": [
        "### **4. Hyperlipidemia**"
      ],
      "metadata": {
        "id": "EXe5WBYfHatj"
      }
    },
    {
      "cell_type": "markdown",
      "source": [
        "How many people reported Hyperlipidemia or high cholesterol levels."
      ],
      "metadata": {
        "id": "ZgctzOMtHdkG"
      }
    },
    {
      "cell_type": "code",
      "source": [
        "No=(df[ 'Endocrine.Disease_Hyperlipidaemia']==0).sum()\n",
        "No"
      ],
      "metadata": {
        "colab": {
          "base_uri": "https://localhost:8080/"
        },
        "id": "OvlzJz0uHig9",
        "outputId": "10166c3c-9e6d-4419-ed64-a360a650a76c"
      },
      "execution_count": null,
      "outputs": [
        {
          "output_type": "execute_result",
          "data": {
            "text/plain": [
              "1696"
            ]
          },
          "metadata": {},
          "execution_count": 59
        }
      ]
    },
    {
      "cell_type": "code",
      "source": [
        "Yes=(df['Endocrine.Disease_Hyperlipidaemia']==1).sum()\n",
        "Yes"
      ],
      "metadata": {
        "colab": {
          "base_uri": "https://localhost:8080/"
        },
        "id": "L9ai7dagHohu",
        "outputId": "a486b19e-31bf-4889-e9ce-3a470ffe2623"
      },
      "execution_count": null,
      "outputs": [
        {
          "output_type": "execute_result",
          "data": {
            "text/plain": [
              "603"
            ]
          },
          "metadata": {},
          "execution_count": 60
        }
      ]
    },
    {
      "cell_type": "code",
      "source": [
        "data = {'No':1696, 'Yes':603}\n",
        "data"
      ],
      "metadata": {
        "colab": {
          "base_uri": "https://localhost:8080/"
        },
        "id": "6GqpMkbgIJ6f",
        "outputId": "ef0eaf04-f47c-4c5f-e82a-3f2bb9148453"
      },
      "execution_count": null,
      "outputs": [
        {
          "output_type": "execute_result",
          "data": {
            "text/plain": [
              "{'No': 1696, 'Yes': 603}"
            ]
          },
          "metadata": {},
          "execution_count": 61
        }
      ]
    },
    {
      "cell_type": "code",
      "source": [
        "p1=list(data.keys())"
      ],
      "metadata": {
        "id": "UVI4r4zSIVnK"
      },
      "execution_count": null,
      "outputs": []
    },
    {
      "cell_type": "code",
      "source": [
        "p2=list(data.values())"
      ],
      "metadata": {
        "id": "NtP_MKYWIZaf"
      },
      "execution_count": null,
      "outputs": []
    },
    {
      "cell_type": "code",
      "source": [
        "plt.bar(x=p1, height=p2, color=(\"lightgreen\",\"blue\"))"
      ],
      "metadata": {
        "colab": {
          "base_uri": "https://localhost:8080/",
          "height": 447
        },
        "id": "VXsFR5JVIeSO",
        "outputId": "59c197e2-910e-4be0-e80b-887f5b878a97"
      },
      "execution_count": null,
      "outputs": [
        {
          "output_type": "execute_result",
          "data": {
            "text/plain": [
              "<BarContainer object of 2 artists>"
            ]
          },
          "metadata": {},
          "execution_count": 66
        },
        {
          "output_type": "display_data",
          "data": {
            "text/plain": [
              "<Figure size 640x480 with 1 Axes>"
            ],
            "image/png": "[encoded data removed]"
          },
          "metadata": {}
        }
      ]
    },
    {
      "cell_type": "markdown",
      "source": [
        "### **5. MNAa_q3 (Activity ability)**"
      ],
      "metadata": {
        "id": "d8wAJFdVIzT3"
      }
    },
    {
      "cell_type": "code",
      "source": [
        "Bedridden=(df[ 'MNAa_q3']==0).sum()\n",
        "Bedridden"
      ],
      "metadata": {
        "colab": {
          "base_uri": "https://localhost:8080/"
        },
        "id": "aOfsRUmRI0M5",
        "outputId": "df14fd6c-9d50-428f-8874-020211be5e88"
      },
      "execution_count": null,
      "outputs": [
        {
          "output_type": "execute_result",
          "data": {
            "text/plain": [
              "13"
            ]
          },
          "metadata": {},
          "execution_count": 69
        }
      ]
    },
    {
      "cell_type": "code",
      "source": [
        "Cannotgoout=(df[ 'MNAa_q3']==1).sum()\n",
        "Cannotgoout"
      ],
      "metadata": {
        "colab": {
          "base_uri": "https://localhost:8080/"
        },
        "id": "X99fpiI5I4Qb",
        "outputId": "fd859b6c-63c9-4c7c-e17e-ecb2c8f24689"
      },
      "execution_count": null,
      "outputs": [
        {
          "output_type": "execute_result",
          "data": {
            "text/plain": [
              "22"
            ]
          },
          "metadata": {},
          "execution_count": 68
        }
      ]
    },
    {
      "cell_type": "code",
      "source": [
        "Cangoout=(df[ 'MNAa_q3']==2).sum()\n",
        "Cangoout"
      ],
      "metadata": {
        "colab": {
          "base_uri": "https://localhost:8080/"
        },
        "id": "4LRB2QoEI45r",
        "outputId": "fef9f2ee-0ac4-4d96-f1fd-c6ff98ade2d3"
      },
      "execution_count": null,
      "outputs": [
        {
          "output_type": "execute_result",
          "data": {
            "text/plain": [
              "2264"
            ]
          },
          "metadata": {},
          "execution_count": 67
        }
      ]
    },
    {
      "cell_type": "code",
      "source": [
        "data = {'Bedridden':13, 'Cannotgoout':22,'Cangoout':2264}\n",
        "data"
      ],
      "metadata": {
        "colab": {
          "base_uri": "https://localhost:8080/"
        },
        "id": "9G89aSXPJjU_",
        "outputId": "e591ab20-65c9-4815-c1a3-75f384d247f5"
      },
      "execution_count": null,
      "outputs": [
        {
          "output_type": "execute_result",
          "data": {
            "text/plain": [
              "{'Bedridden': 13, 'Cannotgoout': 22, 'Cangoout': 2264}"
            ]
          },
          "metadata": {},
          "execution_count": 70
        }
      ]
    },
    {
      "cell_type": "code",
      "source": [
        "p1=list(data.keys())"
      ],
      "metadata": {
        "id": "zGcNcnyLJ5QL"
      },
      "execution_count": null,
      "outputs": []
    },
    {
      "cell_type": "code",
      "source": [
        "p2=list(data.values())"
      ],
      "metadata": {
        "id": "IVOsUUVmJ8Id"
      },
      "execution_count": null,
      "outputs": []
    },
    {
      "cell_type": "code",
      "source": [
        "plt.bar(x=p1, height=p2, color=(\"green\",\"red\",\"blue\"))"
      ],
      "metadata": {
        "colab": {
          "base_uri": "https://localhost:8080/",
          "height": 447
        },
        "id": "xdHU817aKHPn",
        "outputId": "cc6abb0e-3994-41ac-a763-c37417abcfe3"
      },
      "execution_count": null,
      "outputs": [
        {
          "output_type": "execute_result",
          "data": {
            "text/plain": [
              "<BarContainer object of 3 artists>"
            ]
          },
          "metadata": {},
          "execution_count": 74
        },
        {
          "output_type": "display_data",
          "data": {
            "text/plain": [
              "<Figure size 640x480 with 1 Axes>"
            ],
            "image/png": "[encoded data removed]"
          },
          "metadata": {}
        }
      ]
    }
  ],
  "metadata": {
    "colab": {
      "provenance": [],
      "toc_visible": true,
      "include_colab_link": true
    },
    "kernelspec": {
      "display_name": "Python 3",
      "language": "python",
      "name": "python3"
    },
    "language_info": {
      "codemirror_mode": {
        "name": "ipython",
        "version": 3
      },
      "file_extension": ".py",
      "mimetype": "text/x-python",
      "name": "python",
      "nbconvert_exporter": "python",
      "pygments_lexer": "ipython3",
      "version": "3.7.6"
    }
  },
  "nbformat": 4,
  "nbformat_minor": 0
}